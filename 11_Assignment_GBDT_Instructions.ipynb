{
  "nbformat": 4,
  "nbformat_minor": 0,
  "metadata": {
    "colab": {
      "name": "11_Assignment_GBDT_Instructions.ipynb",
      "provenance": [],
      "collapsed_sections": []
    },
    "kernelspec": {
      "display_name": "Python 3",
      "language": "python",
      "name": "python3"
    },
    "language_info": {
      "codemirror_mode": {
        "name": "ipython",
        "version": 3
      },
      "file_extension": ".py",
      "mimetype": "text/x-python",
      "name": "python",
      "nbconvert_exporter": "python",
      "pygments_lexer": "ipython3",
      "version": "3.7.6"
    },
    "widgets": {
      "application/vnd.jupyter.widget-state+json": {
        "594788dfc3b349c7a73e8711ab2ce487": {
          "model_module": "@jupyter-widgets/controls",
          "model_name": "HBoxModel",
          "state": {
            "_view_name": "HBoxView",
            "_dom_classes": [],
            "_model_name": "HBoxModel",
            "_view_module": "@jupyter-widgets/controls",
            "_model_module_version": "1.5.0",
            "_view_count": null,
            "_view_module_version": "1.5.0",
            "box_style": "",
            "layout": "IPY_MODEL_59f9bc271ca84bf0bfea395f8294a0c1",
            "_model_module": "@jupyter-widgets/controls",
            "children": [
              "IPY_MODEL_5b755296131f40278875fdb1bcd0c5b4",
              "IPY_MODEL_6b716223697b42588a1265edff80838b"
            ]
          }
        },
        "59f9bc271ca84bf0bfea395f8294a0c1": {
          "model_module": "@jupyter-widgets/base",
          "model_name": "LayoutModel",
          "state": {
            "_view_name": "LayoutView",
            "grid_template_rows": null,
            "right": null,
            "justify_content": null,
            "_view_module": "@jupyter-widgets/base",
            "overflow": null,
            "_model_module_version": "1.2.0",
            "_view_count": null,
            "flex_flow": null,
            "width": null,
            "min_width": null,
            "border": null,
            "align_items": null,
            "bottom": null,
            "_model_module": "@jupyter-widgets/base",
            "top": null,
            "grid_column": null,
            "overflow_y": null,
            "overflow_x": null,
            "grid_auto_flow": null,
            "grid_area": null,
            "grid_template_columns": null,
            "flex": null,
            "_model_name": "LayoutModel",
            "justify_items": null,
            "grid_row": null,
            "max_height": null,
            "align_content": null,
            "visibility": null,
            "align_self": null,
            "height": null,
            "min_height": null,
            "padding": null,
            "grid_auto_rows": null,
            "grid_gap": null,
            "max_width": null,
            "order": null,
            "_view_module_version": "1.2.0",
            "grid_template_areas": null,
            "object_position": null,
            "object_fit": null,
            "grid_auto_columns": null,
            "margin": null,
            "display": null,
            "left": null
          }
        },
        "5b755296131f40278875fdb1bcd0c5b4": {
          "model_module": "@jupyter-widgets/controls",
          "model_name": "FloatProgressModel",
          "state": {
            "_view_name": "ProgressView",
            "style": "IPY_MODEL_ab629723411944fc85bda4c808a8abb8",
            "_dom_classes": [],
            "description": "100%",
            "_model_name": "FloatProgressModel",
            "bar_style": "success",
            "max": 109248,
            "_view_module": "@jupyter-widgets/controls",
            "_model_module_version": "1.5.0",
            "value": 109248,
            "_view_count": null,
            "_view_module_version": "1.5.0",
            "orientation": "horizontal",
            "min": 0,
            "description_tooltip": null,
            "_model_module": "@jupyter-widgets/controls",
            "layout": "IPY_MODEL_de289a9c07d44f56bb59c3172baf2772"
          }
        },
        "6b716223697b42588a1265edff80838b": {
          "model_module": "@jupyter-widgets/controls",
          "model_name": "HTMLModel",
          "state": {
            "_view_name": "HTMLView",
            "style": "IPY_MODEL_bc4a65dccb144c09a930136b714db557",
            "_dom_classes": [],
            "description": "",
            "_model_name": "HTMLModel",
            "placeholder": "​",
            "_view_module": "@jupyter-widgets/controls",
            "_model_module_version": "1.5.0",
            "value": " 109248/109248 [03:30&lt;00:00, 519.71it/s]",
            "_view_count": null,
            "_view_module_version": "1.5.0",
            "description_tooltip": null,
            "_model_module": "@jupyter-widgets/controls",
            "layout": "IPY_MODEL_c262979c7ae44e30bd00fdee936c6124"
          }
        },
        "ab629723411944fc85bda4c808a8abb8": {
          "model_module": "@jupyter-widgets/controls",
          "model_name": "ProgressStyleModel",
          "state": {
            "_view_name": "StyleView",
            "_model_name": "ProgressStyleModel",
            "description_width": "initial",
            "_view_module": "@jupyter-widgets/base",
            "_model_module_version": "1.5.0",
            "_view_count": null,
            "_view_module_version": "1.2.0",
            "bar_color": null,
            "_model_module": "@jupyter-widgets/controls"
          }
        },
        "de289a9c07d44f56bb59c3172baf2772": {
          "model_module": "@jupyter-widgets/base",
          "model_name": "LayoutModel",
          "state": {
            "_view_name": "LayoutView",
            "grid_template_rows": null,
            "right": null,
            "justify_content": null,
            "_view_module": "@jupyter-widgets/base",
            "overflow": null,
            "_model_module_version": "1.2.0",
            "_view_count": null,
            "flex_flow": null,
            "width": null,
            "min_width": null,
            "border": null,
            "align_items": null,
            "bottom": null,
            "_model_module": "@jupyter-widgets/base",
            "top": null,
            "grid_column": null,
            "overflow_y": null,
            "overflow_x": null,
            "grid_auto_flow": null,
            "grid_area": null,
            "grid_template_columns": null,
            "flex": null,
            "_model_name": "LayoutModel",
            "justify_items": null,
            "grid_row": null,
            "max_height": null,
            "align_content": null,
            "visibility": null,
            "align_self": null,
            "height": null,
            "min_height": null,
            "padding": null,
            "grid_auto_rows": null,
            "grid_gap": null,
            "max_width": null,
            "order": null,
            "_view_module_version": "1.2.0",
            "grid_template_areas": null,
            "object_position": null,
            "object_fit": null,
            "grid_auto_columns": null,
            "margin": null,
            "display": null,
            "left": null
          }
        },
        "bc4a65dccb144c09a930136b714db557": {
          "model_module": "@jupyter-widgets/controls",
          "model_name": "DescriptionStyleModel",
          "state": {
            "_view_name": "StyleView",
            "_model_name": "DescriptionStyleModel",
            "description_width": "",
            "_view_module": "@jupyter-widgets/base",
            "_model_module_version": "1.5.0",
            "_view_count": null,
            "_view_module_version": "1.2.0",
            "_model_module": "@jupyter-widgets/controls"
          }
        },
        "c262979c7ae44e30bd00fdee936c6124": {
          "model_module": "@jupyter-widgets/base",
          "model_name": "LayoutModel",
          "state": {
            "_view_name": "LayoutView",
            "grid_template_rows": null,
            "right": null,
            "justify_content": null,
            "_view_module": "@jupyter-widgets/base",
            "overflow": null,
            "_model_module_version": "1.2.0",
            "_view_count": null,
            "flex_flow": null,
            "width": null,
            "min_width": null,
            "border": null,
            "align_items": null,
            "bottom": null,
            "_model_module": "@jupyter-widgets/base",
            "top": null,
            "grid_column": null,
            "overflow_y": null,
            "overflow_x": null,
            "grid_auto_flow": null,
            "grid_area": null,
            "grid_template_columns": null,
            "flex": null,
            "_model_name": "LayoutModel",
            "justify_items": null,
            "grid_row": null,
            "max_height": null,
            "align_content": null,
            "visibility": null,
            "align_self": null,
            "height": null,
            "min_height": null,
            "padding": null,
            "grid_auto_rows": null,
            "grid_gap": null,
            "max_width": null,
            "order": null,
            "_view_module_version": "1.2.0",
            "grid_template_areas": null,
            "object_position": null,
            "object_fit": null,
            "grid_auto_columns": null,
            "margin": null,
            "display": null,
            "left": null
          }
        },
        "4120d9f2b4994a34a3eaea27007308b2": {
          "model_module": "@jupyter-widgets/controls",
          "model_name": "HBoxModel",
          "state": {
            "_view_name": "HBoxView",
            "_dom_classes": [],
            "_model_name": "HBoxModel",
            "_view_module": "@jupyter-widgets/controls",
            "_model_module_version": "1.5.0",
            "_view_count": null,
            "_view_module_version": "1.5.0",
            "box_style": "",
            "layout": "IPY_MODEL_436def76685e4316843257679f803d0e",
            "_model_module": "@jupyter-widgets/controls",
            "children": [
              "IPY_MODEL_3e297ff69b704d408251ece0b88f893c",
              "IPY_MODEL_afc8c397b36d4e61923318d32a887cef"
            ]
          }
        },
        "436def76685e4316843257679f803d0e": {
          "model_module": "@jupyter-widgets/base",
          "model_name": "LayoutModel",
          "state": {
            "_view_name": "LayoutView",
            "grid_template_rows": null,
            "right": null,
            "justify_content": null,
            "_view_module": "@jupyter-widgets/base",
            "overflow": null,
            "_model_module_version": "1.2.0",
            "_view_count": null,
            "flex_flow": null,
            "width": null,
            "min_width": null,
            "border": null,
            "align_items": null,
            "bottom": null,
            "_model_module": "@jupyter-widgets/base",
            "top": null,
            "grid_column": null,
            "overflow_y": null,
            "overflow_x": null,
            "grid_auto_flow": null,
            "grid_area": null,
            "grid_template_columns": null,
            "flex": null,
            "_model_name": "LayoutModel",
            "justify_items": null,
            "grid_row": null,
            "max_height": null,
            "align_content": null,
            "visibility": null,
            "align_self": null,
            "height": null,
            "min_height": null,
            "padding": null,
            "grid_auto_rows": null,
            "grid_gap": null,
            "max_width": null,
            "order": null,
            "_view_module_version": "1.2.0",
            "grid_template_areas": null,
            "object_position": null,
            "object_fit": null,
            "grid_auto_columns": null,
            "margin": null,
            "display": null,
            "left": null
          }
        },
        "3e297ff69b704d408251ece0b88f893c": {
          "model_module": "@jupyter-widgets/controls",
          "model_name": "FloatProgressModel",
          "state": {
            "_view_name": "ProgressView",
            "style": "IPY_MODEL_7890453ca388431aa03609efa9148d00",
            "_dom_classes": [],
            "description": "100%",
            "_model_name": "FloatProgressModel",
            "bar_style": "success",
            "max": 81936,
            "_view_module": "@jupyter-widgets/controls",
            "_model_module_version": "1.5.0",
            "value": 81936,
            "_view_count": null,
            "_view_module_version": "1.5.0",
            "orientation": "horizontal",
            "min": 0,
            "description_tooltip": null,
            "_model_module": "@jupyter-widgets/controls",
            "layout": "IPY_MODEL_80f76431e6f64ed6808bff0aeca072d2"
          }
        },
        "afc8c397b36d4e61923318d32a887cef": {
          "model_module": "@jupyter-widgets/controls",
          "model_name": "HTMLModel",
          "state": {
            "_view_name": "HTMLView",
            "style": "IPY_MODEL_76305b34454b460c8402a3fef93cc417",
            "_dom_classes": [],
            "description": "",
            "_model_name": "HTMLModel",
            "placeholder": "​",
            "_view_module": "@jupyter-widgets/controls",
            "_model_module_version": "1.5.0",
            "value": " 81936/81936 [02:55&lt;00:00, 466.28it/s]",
            "_view_count": null,
            "_view_module_version": "1.5.0",
            "description_tooltip": null,
            "_model_module": "@jupyter-widgets/controls",
            "layout": "IPY_MODEL_2b5ec38d4d4f44d69cfe14f64be5c94e"
          }
        },
        "7890453ca388431aa03609efa9148d00": {
          "model_module": "@jupyter-widgets/controls",
          "model_name": "ProgressStyleModel",
          "state": {
            "_view_name": "StyleView",
            "_model_name": "ProgressStyleModel",
            "description_width": "initial",
            "_view_module": "@jupyter-widgets/base",
            "_model_module_version": "1.5.0",
            "_view_count": null,
            "_view_module_version": "1.2.0",
            "bar_color": null,
            "_model_module": "@jupyter-widgets/controls"
          }
        },
        "80f76431e6f64ed6808bff0aeca072d2": {
          "model_module": "@jupyter-widgets/base",
          "model_name": "LayoutModel",
          "state": {
            "_view_name": "LayoutView",
            "grid_template_rows": null,
            "right": null,
            "justify_content": null,
            "_view_module": "@jupyter-widgets/base",
            "overflow": null,
            "_model_module_version": "1.2.0",
            "_view_count": null,
            "flex_flow": null,
            "width": null,
            "min_width": null,
            "border": null,
            "align_items": null,
            "bottom": null,
            "_model_module": "@jupyter-widgets/base",
            "top": null,
            "grid_column": null,
            "overflow_y": null,
            "overflow_x": null,
            "grid_auto_flow": null,
            "grid_area": null,
            "grid_template_columns": null,
            "flex": null,
            "_model_name": "LayoutModel",
            "justify_items": null,
            "grid_row": null,
            "max_height": null,
            "align_content": null,
            "visibility": null,
            "align_self": null,
            "height": null,
            "min_height": null,
            "padding": null,
            "grid_auto_rows": null,
            "grid_gap": null,
            "max_width": null,
            "order": null,
            "_view_module_version": "1.2.0",
            "grid_template_areas": null,
            "object_position": null,
            "object_fit": null,
            "grid_auto_columns": null,
            "margin": null,
            "display": null,
            "left": null
          }
        },
        "76305b34454b460c8402a3fef93cc417": {
          "model_module": "@jupyter-widgets/controls",
          "model_name": "DescriptionStyleModel",
          "state": {
            "_view_name": "StyleView",
            "_model_name": "DescriptionStyleModel",
            "description_width": "",
            "_view_module": "@jupyter-widgets/base",
            "_model_module_version": "1.5.0",
            "_view_count": null,
            "_view_module_version": "1.2.0",
            "_model_module": "@jupyter-widgets/controls"
          }
        },
        "2b5ec38d4d4f44d69cfe14f64be5c94e": {
          "model_module": "@jupyter-widgets/base",
          "model_name": "LayoutModel",
          "state": {
            "_view_name": "LayoutView",
            "grid_template_rows": null,
            "right": null,
            "justify_content": null,
            "_view_module": "@jupyter-widgets/base",
            "overflow": null,
            "_model_module_version": "1.2.0",
            "_view_count": null,
            "flex_flow": null,
            "width": null,
            "min_width": null,
            "border": null,
            "align_items": null,
            "bottom": null,
            "_model_module": "@jupyter-widgets/base",
            "top": null,
            "grid_column": null,
            "overflow_y": null,
            "overflow_x": null,
            "grid_auto_flow": null,
            "grid_area": null,
            "grid_template_columns": null,
            "flex": null,
            "_model_name": "LayoutModel",
            "justify_items": null,
            "grid_row": null,
            "max_height": null,
            "align_content": null,
            "visibility": null,
            "align_self": null,
            "height": null,
            "min_height": null,
            "padding": null,
            "grid_auto_rows": null,
            "grid_gap": null,
            "max_width": null,
            "order": null,
            "_view_module_version": "1.2.0",
            "grid_template_areas": null,
            "object_position": null,
            "object_fit": null,
            "grid_auto_columns": null,
            "margin": null,
            "display": null,
            "left": null
          }
        },
        "270a15da4cae42949ed6539dd541fda6": {
          "model_module": "@jupyter-widgets/controls",
          "model_name": "HBoxModel",
          "state": {
            "_view_name": "HBoxView",
            "_dom_classes": [],
            "_model_name": "HBoxModel",
            "_view_module": "@jupyter-widgets/controls",
            "_model_module_version": "1.5.0",
            "_view_count": null,
            "_view_module_version": "1.5.0",
            "box_style": "",
            "layout": "IPY_MODEL_66bb6fa2cc924d38b773f4a71101bfe1",
            "_model_module": "@jupyter-widgets/controls",
            "children": [
              "IPY_MODEL_2d823024553e49b5b94e4e17ed117cb8",
              "IPY_MODEL_ddd5104d77ef4d1cb65e59db56bb9848"
            ]
          }
        },
        "66bb6fa2cc924d38b773f4a71101bfe1": {
          "model_module": "@jupyter-widgets/base",
          "model_name": "LayoutModel",
          "state": {
            "_view_name": "LayoutView",
            "grid_template_rows": null,
            "right": null,
            "justify_content": null,
            "_view_module": "@jupyter-widgets/base",
            "overflow": null,
            "_model_module_version": "1.2.0",
            "_view_count": null,
            "flex_flow": null,
            "width": null,
            "min_width": null,
            "border": null,
            "align_items": null,
            "bottom": null,
            "_model_module": "@jupyter-widgets/base",
            "top": null,
            "grid_column": null,
            "overflow_y": null,
            "overflow_x": null,
            "grid_auto_flow": null,
            "grid_area": null,
            "grid_template_columns": null,
            "flex": null,
            "_model_name": "LayoutModel",
            "justify_items": null,
            "grid_row": null,
            "max_height": null,
            "align_content": null,
            "visibility": null,
            "align_self": null,
            "height": null,
            "min_height": null,
            "padding": null,
            "grid_auto_rows": null,
            "grid_gap": null,
            "max_width": null,
            "order": null,
            "_view_module_version": "1.2.0",
            "grid_template_areas": null,
            "object_position": null,
            "object_fit": null,
            "grid_auto_columns": null,
            "margin": null,
            "display": null,
            "left": null
          }
        },
        "2d823024553e49b5b94e4e17ed117cb8": {
          "model_module": "@jupyter-widgets/controls",
          "model_name": "FloatProgressModel",
          "state": {
            "_view_name": "ProgressView",
            "style": "IPY_MODEL_2023584f68ae47fdadac0219fc9b944e",
            "_dom_classes": [],
            "description": "100%",
            "_model_name": "FloatProgressModel",
            "bar_style": "success",
            "max": 27306,
            "_view_module": "@jupyter-widgets/controls",
            "_model_module_version": "1.5.0",
            "value": 27306,
            "_view_count": null,
            "_view_module_version": "1.5.0",
            "orientation": "horizontal",
            "min": 0,
            "description_tooltip": null,
            "_model_module": "@jupyter-widgets/controls",
            "layout": "IPY_MODEL_a97ffbce48464ae0b3df08419ca387e8"
          }
        },
        "ddd5104d77ef4d1cb65e59db56bb9848": {
          "model_module": "@jupyter-widgets/controls",
          "model_name": "HTMLModel",
          "state": {
            "_view_name": "HTMLView",
            "style": "IPY_MODEL_4a95bd04a3f54077a5474d9cc24f0dc1",
            "_dom_classes": [],
            "description": "",
            "_model_name": "HTMLModel",
            "placeholder": "​",
            "_view_module": "@jupyter-widgets/controls",
            "_model_module_version": "1.5.0",
            "value": " 27306/27306 [00:58&lt;00:00, 465.78it/s]",
            "_view_count": null,
            "_view_module_version": "1.5.0",
            "description_tooltip": null,
            "_model_module": "@jupyter-widgets/controls",
            "layout": "IPY_MODEL_b21beeff4a3c4455b80da5b589e47d77"
          }
        },
        "2023584f68ae47fdadac0219fc9b944e": {
          "model_module": "@jupyter-widgets/controls",
          "model_name": "ProgressStyleModel",
          "state": {
            "_view_name": "StyleView",
            "_model_name": "ProgressStyleModel",
            "description_width": "initial",
            "_view_module": "@jupyter-widgets/base",
            "_model_module_version": "1.5.0",
            "_view_count": null,
            "_view_module_version": "1.2.0",
            "bar_color": null,
            "_model_module": "@jupyter-widgets/controls"
          }
        },
        "a97ffbce48464ae0b3df08419ca387e8": {
          "model_module": "@jupyter-widgets/base",
          "model_name": "LayoutModel",
          "state": {
            "_view_name": "LayoutView",
            "grid_template_rows": null,
            "right": null,
            "justify_content": null,
            "_view_module": "@jupyter-widgets/base",
            "overflow": null,
            "_model_module_version": "1.2.0",
            "_view_count": null,
            "flex_flow": null,
            "width": null,
            "min_width": null,
            "border": null,
            "align_items": null,
            "bottom": null,
            "_model_module": "@jupyter-widgets/base",
            "top": null,
            "grid_column": null,
            "overflow_y": null,
            "overflow_x": null,
            "grid_auto_flow": null,
            "grid_area": null,
            "grid_template_columns": null,
            "flex": null,
            "_model_name": "LayoutModel",
            "justify_items": null,
            "grid_row": null,
            "max_height": null,
            "align_content": null,
            "visibility": null,
            "align_self": null,
            "height": null,
            "min_height": null,
            "padding": null,
            "grid_auto_rows": null,
            "grid_gap": null,
            "max_width": null,
            "order": null,
            "_view_module_version": "1.2.0",
            "grid_template_areas": null,
            "object_position": null,
            "object_fit": null,
            "grid_auto_columns": null,
            "margin": null,
            "display": null,
            "left": null
          }
        },
        "4a95bd04a3f54077a5474d9cc24f0dc1": {
          "model_module": "@jupyter-widgets/controls",
          "model_name": "DescriptionStyleModel",
          "state": {
            "_view_name": "StyleView",
            "_model_name": "DescriptionStyleModel",
            "description_width": "",
            "_view_module": "@jupyter-widgets/base",
            "_model_module_version": "1.5.0",
            "_view_count": null,
            "_view_module_version": "1.2.0",
            "_model_module": "@jupyter-widgets/controls"
          }
        },
        "b21beeff4a3c4455b80da5b589e47d77": {
          "model_module": "@jupyter-widgets/base",
          "model_name": "LayoutModel",
          "state": {
            "_view_name": "LayoutView",
            "grid_template_rows": null,
            "right": null,
            "justify_content": null,
            "_view_module": "@jupyter-widgets/base",
            "overflow": null,
            "_model_module_version": "1.2.0",
            "_view_count": null,
            "flex_flow": null,
            "width": null,
            "min_width": null,
            "border": null,
            "align_items": null,
            "bottom": null,
            "_model_module": "@jupyter-widgets/base",
            "top": null,
            "grid_column": null,
            "overflow_y": null,
            "overflow_x": null,
            "grid_auto_flow": null,
            "grid_area": null,
            "grid_template_columns": null,
            "flex": null,
            "_model_name": "LayoutModel",
            "justify_items": null,
            "grid_row": null,
            "max_height": null,
            "align_content": null,
            "visibility": null,
            "align_self": null,
            "height": null,
            "min_height": null,
            "padding": null,
            "grid_auto_rows": null,
            "grid_gap": null,
            "max_width": null,
            "order": null,
            "_view_module_version": "1.2.0",
            "grid_template_areas": null,
            "object_position": null,
            "object_fit": null,
            "grid_auto_columns": null,
            "margin": null,
            "display": null,
            "left": null
          }
        }
      }
    }
  },
  "cells": [
    {
      "cell_type": "markdown",
      "metadata": {
        "id": "8wqapAXjsc24"
      },
      "source": [
        "# Assignment 9: GBDT"
      ]
    },
    {
      "cell_type": "markdown",
      "metadata": {
        "id": "8u5NhbnEsc2-"
      },
      "source": [
        "#### Response Coding: Example"
      ]
    },
    {
      "cell_type": "markdown",
      "metadata": {
        "id": "HIFWmwHKsc3A"
      },
      "source": [
        "<img src='http://i.imgur.com/TufZptV.jpg' width=700px>\n",
        "\n",
        "> The response tabel is built only on train dataset.\n",
        "> For a category which is not there in train data and present in test data, we will encode them with default values\n",
        "Ex: in our test data if have State: D then we encode it as [0.5, 0.05]"
      ]
    },
    {
      "cell_type": "markdown",
      "metadata": {
        "id": "3KwfGufDsc3D"
      },
      "source": [
        "<ol>\n",
        "    <li><strong>Apply GBDT on these feature sets</strong>\n",
        "        <ul>\n",
        "            <li><font color='red'>Set 1</font>: categorical(instead of one hot encoding, try <a href='https://www.appliedaicourse.com/course/applied-ai-course-online/lessons/handling-categorical-and-numerical-features/'>response coding</a>: use probability values), numerical features + project_title(TFIDF)+  preprocessed_eassay (TFIDF)+sentiment Score of eassay(check the bellow example, include all 4 values as 4 features)</li>\n",
        "            <li><font color='red'>Set 2</font>: categorical(instead of one hot encoding, try <a href='https://www.appliedaicourse.com/course/applied-ai-course-online/lessons/handling-categorical-and-numerical-features/'>response coding</a>: use probability values), numerical features + project_title(TFIDF W2V)+  preprocessed_eassay (TFIDF W2V)</li>        </ul>\n",
        "    </li>\n",
        "    <li><strong>The hyper paramter tuning (Consider any two hyper parameters)</strong>\n",
        "        <ul>\n",
        "    <li>Find the best hyper parameter which will give the maximum <a href='https://www.appliedaicourse.com/course/applied-ai-course-online/lessons/receiver-operating-characteristic-curve-roc-curve-and-auc-1/'>AUC</a> value</li>\n",
        "    <li>find the best hyper paramter using k-fold cross validation/simple cross validation data</li>\n",
        "    <li>use gridsearch cv or randomsearch cv or you can write your own for loops to do this task</li>\n",
        "        </ul>\n",
        "    </li>\n",
        "    <li>\n",
        "    <strong>Representation of results</strong>\n",
        "        <ul>\n",
        "    <li>You need to plot the performance of model both on train data and cross validation data for each hyper parameter, like shown in the figure\n",
        "    <img src='https://i.imgur.com/Gp2DQmh.jpg' width=500px> with X-axis as <strong>n_estimators</strong>, Y-axis as <strong>max_depth</strong>, and Z-axis as <strong>AUC Score</strong> , we have given the notebook which explains how to plot this 3d plot, you can find it in the same drive <i>3d_scatter_plot.ipynb</i></li>\n",
        "            <p style=\"text-align:center;font-size:30px;color:red;\"><strong>or</strong></p> <br>\n",
        "    <li>You need to plot the performance of model both on train data and cross validation data for each hyper parameter, like shown in the figure\n",
        "    <img src='https://i.imgur.com/fgN9aUP.jpg' width=300px> <a href='https://seaborn.pydata.org/generated/seaborn.heatmap.html'>seaborn heat maps</a> with rows as <strong>n_estimators</strong>, columns as <strong>max_depth</strong>, and values inside the cell representing <strong>AUC Score</strong> </li>\n",
        "    <li>You choose either of the plotting techniques out of 3d plot or heat map</li>\n",
        "    <li>Once after you found the best hyper parameter, you need to train your model with it, and find the AUC on test data and plot the ROC curve on both train and test.\n",
        "    <img src='https://i.imgur.com/wMQDTFe.jpg' width=300px></li>\n",
        "    <li>Along with plotting ROC curve, you need to print the <a href='https://www.appliedaicourse.com/course/applied-ai-course-online/lessons/confusion-matrix-tpr-fpr-fnr-tnr-1/'>confusion matrix</a> with predicted and original labels of test data points\n",
        "    <img src='https://i.imgur.com/IdN5Ctv.png' width=300px></li>\n",
        "            </ul>\n",
        "    <br>\n",
        "    <li>You need to summarize the results at the end of the notebook, summarize it in the table format\n",
        "        <img src='http://i.imgur.com/YVpIGGE.jpg' width=400px>\n",
        "    </li>\n",
        "</ol>"
      ]
    },
    {
      "cell_type": "code",
      "metadata": {
        "id": "wtTrZE2JCuQt",
        "outputId": "9da16e33-a6b1-4d38-e688-70e1f7346454",
        "colab": {
          "base_uri": "https://localhost:8080/"
        }
      },
      "source": [
        "!wget --header=\"Host: doc-10-bk-docs.googleusercontent.com\" --header=\"User-Agent: Mozilla/5.0 (Windows NT 10.0; Win64; x64) AppleWebKit/537.36 (KHTML, like Gecko) Chrome/86.0.4240.111 Safari/537.36\" --header=\"Accept: text/html,application/xhtml+xml,application/xml;q=0.9,image/avif,image/webp,image/apng,*/*;q=0.8,application/signed-exchange;v=b3;q=0.9\" --header=\"Accept-Language: en-GB,en;q=0.9,en-US;q=0.8,hi;q=0.7\" --header=\"Cookie: AUTH_ts1f1mr2obfc7q038mk41gveuq7r19la_nonce=0r49keuqinic6\" --header=\"Connection: keep-alive\" \"https://doc-10-bk-docs.googleusercontent.com/docs/securesc/d1v6i1q2tfr1n0oukfsvi9flul411o5k/vkj44ahf3lu89b0q42k3qbql7dmmb8eh/1603988475000/00997051694618726929/00997051694618726929/1F27ImX-SjdgLVVqN43-OOtRmmk2tRReE?e=download&authuser=1&nonce=0r49keuqinic6&user=00997051694618726929&hash=fmsb7o7ujkereh6veknage7ktabgolk1\" -c -O 'preprocessed_data.csv'"
      ],
      "execution_count": 5,
      "outputs": [
        {
          "output_type": "stream",
          "text": [
            "--2020-10-29 16:23:27--  https://doc-10-bk-docs.googleusercontent.com/docs/securesc/d1v6i1q2tfr1n0oukfsvi9flul411o5k/vkj44ahf3lu89b0q42k3qbql7dmmb8eh/1603988475000/00997051694618726929/00997051694618726929/1F27ImX-SjdgLVVqN43-OOtRmmk2tRReE?e=download&authuser=1&nonce=0r49keuqinic6&user=00997051694618726929&hash=fmsb7o7ujkereh6veknage7ktabgolk1\n",
            "Resolving doc-10-bk-docs.googleusercontent.com (doc-10-bk-docs.googleusercontent.com)... 173.194.216.132, 2607:f8b0:400c:c12::84\n",
            "Connecting to doc-10-bk-docs.googleusercontent.com (doc-10-bk-docs.googleusercontent.com)|173.194.216.132|:443... connected.\n",
            "HTTP request sent, awaiting response... 200 OK\n",
            "Length: unspecified [text/csv]\n",
            "Saving to: ‘preprocessed_data.csv’\n",
            "\n",
            "preprocessed_data.c     [      <=>           ] 118.69M  69.1MB/s    in 1.7s    \n",
            "\n",
            "2020-10-29 16:23:30 (69.1 MB/s) - ‘preprocessed_data.csv’ saved [124454659]\n",
            "\n"
          ],
          "name": "stdout"
        }
      ]
    },
    {
      "cell_type": "code",
      "metadata": {
        "id": "T5W7vwdFHgR5",
        "outputId": "fe9a385b-7b45-40a2-bbd4-0ee8e1f8ae3c",
        "colab": {
          "base_uri": "https://localhost:8080/"
        }
      },
      "source": [
        "!wget --header=\"Host: doc-0c-bk-docs.googleusercontent.com\" --header=\"User-Agent: Mozilla/5.0 (Windows NT 10.0; Win64; x64) AppleWebKit/537.36 (KHTML, like Gecko) Chrome/86.0.4240.111 Safari/537.36\" --header=\"Accept: text/html,application/xhtml+xml,application/xml;q=0.9,image/avif,image/webp,image/apng,*/*;q=0.8,application/signed-exchange;v=b3;q=0.9\" --header=\"Accept-Language: en-GB,en;q=0.9,en-US;q=0.8,hi;q=0.7\" --header=\"Cookie: AUTH_ts1f1mr2obfc7q038mk41gveuq7r19la=00997051694618726929|1603988475000|j7q2cek3s5uhpt0t81kmjsbh38u76554\" --header=\"Connection: keep-alive\" \"https://doc-0c-bk-docs.googleusercontent.com/docs/securesc/d1v6i1q2tfr1n0oukfsvi9flul411o5k/50ejgkegeca7it2ck9ks0jih324bu249/1603988550000/00997051694618726929/00997051694618726929/1ZIR9symHyFeJr7zizEdW9RauHBWiHfbQ?e=download&authuser=1\" -c -O 'glove_vectors'"
      ],
      "execution_count": 6,
      "outputs": [
        {
          "output_type": "stream",
          "text": [
            "--2020-10-29 16:23:34--  https://doc-0c-bk-docs.googleusercontent.com/docs/securesc/d1v6i1q2tfr1n0oukfsvi9flul411o5k/50ejgkegeca7it2ck9ks0jih324bu249/1603988550000/00997051694618726929/00997051694618726929/1ZIR9symHyFeJr7zizEdW9RauHBWiHfbQ?e=download&authuser=1\n",
            "Resolving doc-0c-bk-docs.googleusercontent.com (doc-0c-bk-docs.googleusercontent.com)... 173.194.216.132, 2607:f8b0:400c:c12::84\n",
            "Connecting to doc-0c-bk-docs.googleusercontent.com (doc-0c-bk-docs.googleusercontent.com)|173.194.216.132|:443... connected.\n",
            "HTTP request sent, awaiting response... 200 OK\n",
            "Length: unspecified [application/octet-stream]\n",
            "Saving to: ‘glove_vectors’\n",
            "\n",
            "glove_vectors           [      <=>           ] 121.60M  35.7MB/s    in 3.4s    \n",
            "\n",
            "2020-10-29 16:23:37 (35.7 MB/s) - ‘glove_vectors’ saved [127506004]\n",
            "\n"
          ],
          "name": "stdout"
        }
      ]
    },
    {
      "cell_type": "code",
      "metadata": {
        "id": "iffa2_WGsc3H",
        "outputId": "99bb8db0-a407-46b2-9fb9-41724dde8879",
        "colab": {
          "base_uri": "https://localhost:8080/"
        }
      },
      "source": [
        "import nltk\n",
        "from nltk.sentiment.vader import SentimentIntensityAnalyzer\n",
        "\n",
        "# import nltk\n",
        "nltk.download('vader_lexicon')\n",
        "\n",
        "sid = SentimentIntensityAnalyzer()\n",
        "\n",
        "for_sentiment = 'a person is a person no matter how small dr seuss i teach the smallest students with the biggest enthusiasm \\\n",
        "for learning my students learn in many different ways using all of our senses and multiple intelligences i use a wide range\\\n",
        "of techniques to help all my students succeed students in my class come from a variety of different backgrounds which makes\\\n",
        "for wonderful sharing of experiences and cultures including native americans our school is a caring community of successful \\\n",
        "learners which can be seen through collaborative student project based learning in and out of the classroom kindergarteners \\\n",
        "in my class love to work with hands on materials and have many different opportunities to practice a skill before it is\\\n",
        "mastered having the social skills to work cooperatively with friends is a crucial aspect of the kindergarten curriculum\\\n",
        "montana is the perfect place to learn about agriculture and nutrition my students love to role play in our pretend kitchen\\\n",
        "in the early childhood classroom i have had several kids ask me can we try cooking with real food i will take their idea \\\n",
        "and create common core cooking lessons where we learn important math and writing concepts while cooking delicious healthy \\\n",
        "food for snack time my students will have a grounded appreciation for the work that went into making the food and knowledge \\\n",
        "of where the ingredients came from as well as how it is healthy for their bodies this project would expand our learning of \\\n",
        "nutrition and agricultural cooking recipes by having us peel our own apples to make homemade applesauce make our own bread \\\n",
        "and mix up healthy plants from our classroom garden in the spring we will also create our own cookbooks to be printed and \\\n",
        "shared with families students will gain math and literature skills as well as a life long enjoyment for healthy cooking \\\n",
        "nannan'\n",
        "ss = sid.polarity_scores(for_sentiment)\n",
        "print(ss['neg'])\n",
        "\n",
        "# we can use these 4 things as features/attributes (neg, neu, pos, compound)\n",
        "# neg: 0.0, neu: 0.753, pos: 0.247, compound: 0.93"
      ],
      "execution_count": 7,
      "outputs": [
        {
          "output_type": "stream",
          "text": [
            "/usr/local/lib/python3.6/dist-packages/nltk/twitter/__init__.py:20: UserWarning: The twython library has not been installed. Some functionality from the twitter package will not be available.\n",
            "  warnings.warn(\"The twython library has not been installed. \"\n"
          ],
          "name": "stderr"
        },
        {
          "output_type": "stream",
          "text": [
            "[nltk_data] Downloading package vader_lexicon to /root/nltk_data...\n",
            "0.01\n"
          ],
          "name": "stdout"
        }
      ]
    },
    {
      "cell_type": "markdown",
      "metadata": {
        "id": "BOyTl7oKsc3W"
      },
      "source": [
        "<h1>1. GBDT (xgboost/lightgbm) </h1>"
      ]
    },
    {
      "cell_type": "markdown",
      "metadata": {
        "id": "VWge-b2Zsc3Z"
      },
      "source": [
        "## 1.1 Loading Data"
      ]
    },
    {
      "cell_type": "code",
      "metadata": {
        "id": "WDZFu6-usc3d",
        "outputId": "eea478f8-2650-4b45-a930-ffac9d9f6b32",
        "colab": {
          "base_uri": "https://localhost:8080/",
          "height": 464
        }
      },
      "source": [
        "import pandas as pd\n",
        "ppcsd_df = pd.read_csv('preprocessed_data.csv')\n",
        "ppcsd_df.head()"
      ],
      "execution_count": 8,
      "outputs": [
        {
          "output_type": "execute_result",
          "data": {
            "text/html": [
              "<div>\n",
              "<style scoped>\n",
              "    .dataframe tbody tr th:only-of-type {\n",
              "        vertical-align: middle;\n",
              "    }\n",
              "\n",
              "    .dataframe tbody tr th {\n",
              "        vertical-align: top;\n",
              "    }\n",
              "\n",
              "    .dataframe thead th {\n",
              "        text-align: right;\n",
              "    }\n",
              "</style>\n",
              "<table border=\"1\" class=\"dataframe\">\n",
              "  <thead>\n",
              "    <tr style=\"text-align: right;\">\n",
              "      <th></th>\n",
              "      <th>school_state</th>\n",
              "      <th>teacher_prefix</th>\n",
              "      <th>project_grade_category</th>\n",
              "      <th>teacher_number_of_previously_posted_projects</th>\n",
              "      <th>project_is_approved</th>\n",
              "      <th>clean_categories</th>\n",
              "      <th>clean_subcategories</th>\n",
              "      <th>essay</th>\n",
              "      <th>price</th>\n",
              "    </tr>\n",
              "  </thead>\n",
              "  <tbody>\n",
              "    <tr>\n",
              "      <th>0</th>\n",
              "      <td>ca</td>\n",
              "      <td>mrs</td>\n",
              "      <td>grades_prek_2</td>\n",
              "      <td>53</td>\n",
              "      <td>1</td>\n",
              "      <td>math_science</td>\n",
              "      <td>appliedsciences health_lifescience</td>\n",
              "      <td>i fortunate enough use fairy tale stem kits cl...</td>\n",
              "      <td>725.05</td>\n",
              "    </tr>\n",
              "    <tr>\n",
              "      <th>1</th>\n",
              "      <td>ut</td>\n",
              "      <td>ms</td>\n",
              "      <td>grades_3_5</td>\n",
              "      <td>4</td>\n",
              "      <td>1</td>\n",
              "      <td>specialneeds</td>\n",
              "      <td>specialneeds</td>\n",
              "      <td>imagine 8 9 years old you third grade classroo...</td>\n",
              "      <td>213.03</td>\n",
              "    </tr>\n",
              "    <tr>\n",
              "      <th>2</th>\n",
              "      <td>ca</td>\n",
              "      <td>mrs</td>\n",
              "      <td>grades_prek_2</td>\n",
              "      <td>10</td>\n",
              "      <td>1</td>\n",
              "      <td>literacy_language</td>\n",
              "      <td>literacy</td>\n",
              "      <td>having class 24 students comes diverse learner...</td>\n",
              "      <td>329.00</td>\n",
              "    </tr>\n",
              "    <tr>\n",
              "      <th>3</th>\n",
              "      <td>ga</td>\n",
              "      <td>mrs</td>\n",
              "      <td>grades_prek_2</td>\n",
              "      <td>2</td>\n",
              "      <td>1</td>\n",
              "      <td>appliedlearning</td>\n",
              "      <td>earlydevelopment</td>\n",
              "      <td>i recently read article giving students choice...</td>\n",
              "      <td>481.04</td>\n",
              "    </tr>\n",
              "    <tr>\n",
              "      <th>4</th>\n",
              "      <td>wa</td>\n",
              "      <td>mrs</td>\n",
              "      <td>grades_3_5</td>\n",
              "      <td>2</td>\n",
              "      <td>1</td>\n",
              "      <td>literacy_language</td>\n",
              "      <td>literacy</td>\n",
              "      <td>my students crave challenge eat obstacles brea...</td>\n",
              "      <td>17.74</td>\n",
              "    </tr>\n",
              "  </tbody>\n",
              "</table>\n",
              "</div>"
            ],
            "text/plain": [
              "  school_state  ...   price\n",
              "0           ca  ...  725.05\n",
              "1           ut  ...  213.03\n",
              "2           ca  ...  329.00\n",
              "3           ga  ...  481.04\n",
              "4           wa  ...   17.74\n",
              "\n",
              "[5 rows x 9 columns]"
            ]
          },
          "metadata": {
            "tags": []
          },
          "execution_count": 8
        }
      ]
    },
    {
      "cell_type": "code",
      "metadata": {
        "id": "SWgVgNC65I0Z",
        "outputId": "7cd8496e-5af9-427d-8e5c-b2502ea55699",
        "colab": {
          "base_uri": "https://localhost:8080/"
        }
      },
      "source": [
        "ppcsd_df.shape"
      ],
      "execution_count": 9,
      "outputs": [
        {
          "output_type": "execute_result",
          "data": {
            "text/plain": [
              "(109248, 9)"
            ]
          },
          "metadata": {
            "tags": []
          },
          "execution_count": 9
        }
      ]
    },
    {
      "cell_type": "code",
      "metadata": {
        "id": "jaxkGC8i5I0f",
        "outputId": "8a1174a4-74bc-4146-e45a-de819b9d1dea",
        "colab": {
          "base_uri": "https://localhost:8080/",
          "height": 66,
          "referenced_widgets": [
            "594788dfc3b349c7a73e8711ab2ce487",
            "59f9bc271ca84bf0bfea395f8294a0c1",
            "5b755296131f40278875fdb1bcd0c5b4",
            "6b716223697b42588a1265edff80838b",
            "ab629723411944fc85bda4c808a8abb8",
            "de289a9c07d44f56bb59c3172baf2772",
            "bc4a65dccb144c09a930136b714db557",
            "c262979c7ae44e30bd00fdee936c6124"
          ]
        }
      },
      "source": [
        "import nltk\n",
        "from nltk.sentiment.vader import SentimentIntensityAnalyzer\n",
        "from tqdm.notebook import tqdm\n",
        "## *******************************************************\n",
        "sid = SentimentIntensityAnalyzer()\n",
        "essay_neg = [0 for i in range(109248)]\n",
        "essay_neu = [0 for i in range(109248)]\n",
        "essay_pos = [0 for i in range(109248)]\n",
        "essay_compound = [0 for i in range(109248)]\n",
        "i=0\n",
        "for sentence in tqdm(ppcsd_df['essay']):\n",
        "    ss = sid.polarity_scores(sentence)\n",
        "    essay_neg[i] = ss['neg']\n",
        "    essay_neu[i] = ss['neu']\n",
        "    essay_pos[i] = ss['pos']\n",
        "    essay_compound[i] = ss['compound']\n",
        "    i+=1"
      ],
      "execution_count": 10,
      "outputs": [
        {
          "output_type": "display_data",
          "data": {
            "application/vnd.jupyter.widget-view+json": {
              "model_id": "594788dfc3b349c7a73e8711ab2ce487",
              "version_minor": 0,
              "version_major": 2
            },
            "text/plain": [
              "HBox(children=(FloatProgress(value=0.0, max=109248.0), HTML(value='')))"
            ]
          },
          "metadata": {
            "tags": []
          }
        },
        {
          "output_type": "stream",
          "text": [
            "\n"
          ],
          "name": "stdout"
        }
      ]
    },
    {
      "cell_type": "code",
      "metadata": {
        "id": "iyWEwZXQ5I0m"
      },
      "source": [
        "ppcsd_df['essay_neg'] = essay_neg\n",
        "ppcsd_df['essay_neu'] = essay_neu\n",
        "ppcsd_df['essay_pos'] = essay_pos\n",
        "ppcsd_df['essay_compound'] = essay_compound"
      ],
      "execution_count": 11,
      "outputs": []
    },
    {
      "cell_type": "code",
      "metadata": {
        "id": "M4QCEwaK5I0r",
        "outputId": "375809f5-6535-4bc8-d60b-6b70409e8d73",
        "colab": {
          "base_uri": "https://localhost:8080/",
          "height": 635
        }
      },
      "source": [
        "ppcsd_df.head()"
      ],
      "execution_count": 12,
      "outputs": [
        {
          "output_type": "execute_result",
          "data": {
            "text/html": [
              "<div>\n",
              "<style scoped>\n",
              "    .dataframe tbody tr th:only-of-type {\n",
              "        vertical-align: middle;\n",
              "    }\n",
              "\n",
              "    .dataframe tbody tr th {\n",
              "        vertical-align: top;\n",
              "    }\n",
              "\n",
              "    .dataframe thead th {\n",
              "        text-align: right;\n",
              "    }\n",
              "</style>\n",
              "<table border=\"1\" class=\"dataframe\">\n",
              "  <thead>\n",
              "    <tr style=\"text-align: right;\">\n",
              "      <th></th>\n",
              "      <th>school_state</th>\n",
              "      <th>teacher_prefix</th>\n",
              "      <th>project_grade_category</th>\n",
              "      <th>teacher_number_of_previously_posted_projects</th>\n",
              "      <th>project_is_approved</th>\n",
              "      <th>clean_categories</th>\n",
              "      <th>clean_subcategories</th>\n",
              "      <th>essay</th>\n",
              "      <th>price</th>\n",
              "      <th>essay_neg</th>\n",
              "      <th>essay_neu</th>\n",
              "      <th>essay_pos</th>\n",
              "      <th>essay_compound</th>\n",
              "    </tr>\n",
              "  </thead>\n",
              "  <tbody>\n",
              "    <tr>\n",
              "      <th>0</th>\n",
              "      <td>ca</td>\n",
              "      <td>mrs</td>\n",
              "      <td>grades_prek_2</td>\n",
              "      <td>53</td>\n",
              "      <td>1</td>\n",
              "      <td>math_science</td>\n",
              "      <td>appliedsciences health_lifescience</td>\n",
              "      <td>i fortunate enough use fairy tale stem kits cl...</td>\n",
              "      <td>725.05</td>\n",
              "      <td>0.013</td>\n",
              "      <td>0.783</td>\n",
              "      <td>0.205</td>\n",
              "      <td>0.9867</td>\n",
              "    </tr>\n",
              "    <tr>\n",
              "      <th>1</th>\n",
              "      <td>ut</td>\n",
              "      <td>ms</td>\n",
              "      <td>grades_3_5</td>\n",
              "      <td>4</td>\n",
              "      <td>1</td>\n",
              "      <td>specialneeds</td>\n",
              "      <td>specialneeds</td>\n",
              "      <td>imagine 8 9 years old you third grade classroo...</td>\n",
              "      <td>213.03</td>\n",
              "      <td>0.072</td>\n",
              "      <td>0.680</td>\n",
              "      <td>0.248</td>\n",
              "      <td>0.9897</td>\n",
              "    </tr>\n",
              "    <tr>\n",
              "      <th>2</th>\n",
              "      <td>ca</td>\n",
              "      <td>mrs</td>\n",
              "      <td>grades_prek_2</td>\n",
              "      <td>10</td>\n",
              "      <td>1</td>\n",
              "      <td>literacy_language</td>\n",
              "      <td>literacy</td>\n",
              "      <td>having class 24 students comes diverse learner...</td>\n",
              "      <td>329.00</td>\n",
              "      <td>0.017</td>\n",
              "      <td>0.721</td>\n",
              "      <td>0.262</td>\n",
              "      <td>0.9860</td>\n",
              "    </tr>\n",
              "    <tr>\n",
              "      <th>3</th>\n",
              "      <td>ga</td>\n",
              "      <td>mrs</td>\n",
              "      <td>grades_prek_2</td>\n",
              "      <td>2</td>\n",
              "      <td>1</td>\n",
              "      <td>appliedlearning</td>\n",
              "      <td>earlydevelopment</td>\n",
              "      <td>i recently read article giving students choice...</td>\n",
              "      <td>481.04</td>\n",
              "      <td>0.030</td>\n",
              "      <td>0.783</td>\n",
              "      <td>0.187</td>\n",
              "      <td>0.9524</td>\n",
              "    </tr>\n",
              "    <tr>\n",
              "      <th>4</th>\n",
              "      <td>wa</td>\n",
              "      <td>mrs</td>\n",
              "      <td>grades_3_5</td>\n",
              "      <td>2</td>\n",
              "      <td>1</td>\n",
              "      <td>literacy_language</td>\n",
              "      <td>literacy</td>\n",
              "      <td>my students crave challenge eat obstacles brea...</td>\n",
              "      <td>17.74</td>\n",
              "      <td>0.029</td>\n",
              "      <td>0.683</td>\n",
              "      <td>0.288</td>\n",
              "      <td>0.9873</td>\n",
              "    </tr>\n",
              "  </tbody>\n",
              "</table>\n",
              "</div>"
            ],
            "text/plain": [
              "  school_state teacher_prefix  ... essay_pos  essay_compound\n",
              "0           ca            mrs  ...     0.205          0.9867\n",
              "1           ut             ms  ...     0.248          0.9897\n",
              "2           ca            mrs  ...     0.262          0.9860\n",
              "3           ga            mrs  ...     0.187          0.9524\n",
              "4           wa            mrs  ...     0.288          0.9873\n",
              "\n",
              "[5 rows x 13 columns]"
            ]
          },
          "metadata": {
            "tags": []
          },
          "execution_count": 12
        }
      ]
    },
    {
      "cell_type": "code",
      "metadata": {
        "id": "SZ52KJcf5I0w",
        "outputId": "c90ed6db-8bfc-4845-ac4d-c654da1a2aba",
        "colab": {
          "base_uri": "https://localhost:8080/"
        }
      },
      "source": [
        "### Essay Preprocessing\n",
        "import nltk\n",
        "nltk.download('punkt')\n",
        "nltk.download('wordnet')\n",
        "from nltk.tokenize import word_tokenize\n",
        "from nltk.corpus import stopwords\n",
        "from nltk.stem import WordNetLemmatizer \n",
        "\n",
        "def lem_stop_word(essay_str):\n",
        "    \n",
        "    lemmatizer = WordNetLemmatizer() \n",
        "    tokens = word_tokenize(essay_str)\n",
        "    new_token = []\n",
        "    for word in tokens:\n",
        "          new_token.append(lemmatizer.lemmatize(word,pos='v'))\n",
        "    return(\" \".join(new_token))\n",
        "    new_token.clear()\n",
        "    \n",
        "\n",
        "ppcsd_df['essay'] = ppcsd_df['essay'].apply(lem_stop_word)"
      ],
      "execution_count": 13,
      "outputs": [
        {
          "output_type": "stream",
          "text": [
            "[nltk_data] Downloading package punkt to /root/nltk_data...\n",
            "[nltk_data]   Unzipping tokenizers/punkt.zip.\n",
            "[nltk_data] Downloading package wordnet to /root/nltk_data...\n",
            "[nltk_data]   Unzipping corpora/wordnet.zip.\n"
          ],
          "name": "stdout"
        }
      ]
    },
    {
      "cell_type": "markdown",
      "metadata": {
        "id": "6lAMFKFcsc3j"
      },
      "source": [
        "<h2>1.2 Splitting data into Train and cross validation(or test): Stratified Sampling</h2>"
      ]
    },
    {
      "cell_type": "code",
      "metadata": {
        "id": "ODMijuuNsc3l"
      },
      "source": [
        "# please write all the code with proper documentation, and proper titles for each subsection\n",
        "# go through documentations and blogs before you start coding\n",
        "# first figure out what to do, and then think about how to do.\n",
        "# reading and understanding error messages will be very much helpfull in debugging your code\n",
        "# when you plot any graph make sure you use \n",
        "    # a. Title, that describes your plot, this will be very helpful to the reader\n",
        "    # b. Legends if needed\n",
        "    # c. X-axis label\n",
        "    # d. Y-axis label"
      ],
      "execution_count": 14,
      "outputs": []
    },
    {
      "cell_type": "code",
      "metadata": {
        "id": "Q-eVyGFi5I1G",
        "outputId": "251a9f18-5e82-4da4-9397-217d8f93a038",
        "colab": {
          "base_uri": "https://localhost:8080/",
          "height": 363
        }
      },
      "source": [
        "## Import required library \n",
        "import numpy as np\n",
        "import pandas as pd\n",
        "import matplotlib.pyplot as plt\n",
        "from sklearn.model_selection import train_test_split\n",
        "\n",
        "## create train,test split \n",
        "X_tr,X_test = train_test_split(ppcsd_df, test_size=0.25, random_state=42,stratify=ppcsd_df['project_is_approved'])\n",
        "\n",
        "### check number of approved and not approved data in train file \n",
        "print(\"counts of label 'Approved': {}\".format(sum(X_tr['project_is_approved'] == 1))) \n",
        "print(\"counts of label 'Not Approved': {} \\n\".format(sum(X_tr['project_is_approved'] == 0)))\n",
        "print(\"Ratio of Aprroved to Not Approved :{}\".format((sum(X_tr['project_is_approved'] == 1)/sum(X_tr['project_is_approved'] == 0))))\n",
        "##\n",
        "print(\"-\"*100)\n",
        "temp=np.unique(X_tr['project_is_approved'] ,return_counts=True)\n",
        "temp = pd.Series(temp[1],index=temp[0])\n",
        "ind = np.arange(len(temp))\n",
        "fig, ax = plt.subplots()\n",
        "ax.bar(ind, temp)\n",
        "ax.set_ylabel('No of Projects')\n",
        "ax.set_xlabel('Status')\n",
        "ax.set_xticks(ind)\n",
        "ax.set_xticklabels(['Not-Approved','Approved'])\n",
        "ax.get_children()[1].set_color('y')"
      ],
      "execution_count": 15,
      "outputs": [
        {
          "output_type": "stream",
          "text": [
            "counts of label 'Approved': 69530\n",
            "counts of label 'Not Approved': 12406 \n",
            "\n",
            "Ratio of Aprroved to Not Approved :5.604546187328712\n",
            "----------------------------------------------------------------------------------------------------\n"
          ],
          "name": "stdout"
        },
        {
          "output_type": "display_data",
          "data": {
            "image/png": "[encoded data removed]",
            "text/plain": [
              "<Figure size 432x288 with 1 Axes>"
            ]
          },
          "metadata": {
            "tags": [],
            "needs_background": "light"
          }
        }
      ]
    },
    {
      "cell_type": "code",
      "metadata": {
        "id": "Y7i_4V3H5I1K",
        "outputId": "ce6fae4c-76dc-4d99-8202-f2ea419f86bc",
        "colab": {
          "base_uri": "https://localhost:8080/"
        }
      },
      "source": [
        "print(\"Total number of unique states is {}\".format(X_tr['school_state'].nunique()))\n",
        "print(\"Total number of unique prefix is {}\".format(X_tr['teacher_prefix'].nunique()))\n",
        "print(\"Total number of unique project_grade_category is {}\".format(X_tr['project_grade_category'].nunique()))\n",
        "print(\"Total number of unique clean_categories is {}\".format(X_tr['clean_categories'].nunique()))\n",
        "print(\"Total number of unique clean_categories is {}\".format(X_tr['clean_subcategories'].nunique()))"
      ],
      "execution_count": 16,
      "outputs": [
        {
          "output_type": "stream",
          "text": [
            "Total number of unique states is 51\n",
            "Total number of unique prefix is 5\n",
            "Total number of unique project_grade_category is 4\n",
            "Total number of unique clean_categories is 51\n",
            "Total number of unique clean_categories is 397\n"
          ],
          "name": "stdout"
        }
      ]
    },
    {
      "cell_type": "markdown",
      "metadata": {
        "id": "vsALgl5Asc3u"
      },
      "source": [
        "<h2>1.3 Make Data Model Ready: encoding eassay, and project_title</h2>"
      ]
    },
    {
      "cell_type": "code",
      "metadata": {
        "id": "1A_85jbWsc3v"
      },
      "source": [
        "# please write all the code with proper documentation, and proper titles for each subsection\n",
        "# go through documentations and blogs before you start coding\n",
        "# first figure out what to do, and then think about how to do.\n",
        "# reading and understanding error messages will be very much helpfull in debugging your code\n",
        "# make sure you featurize train and test data separatly\n",
        "\n",
        "# when you plot any graph make sure you use \n",
        "    # a. Title, that describes your plot, this will be very helpful to the reader\n",
        "    # b. Legends if needed\n",
        "    # c. X-axis label\n",
        "    # d. Y-axis label"
      ],
      "execution_count": 17,
      "outputs": []
    },
    {
      "cell_type": "code",
      "metadata": {
        "id": "ofxFpcF05I1U"
      },
      "source": [
        "## reference \"https://towardsdatascience.com/all-about-categorical-variable-encoding-305f3361fd02\n",
        "### Response Coding of the features\n",
        "def response_coding_for_feature(X_tr_func,X_test_func,col_name='school_state',new_col='Res_Code_State' ):\n",
        "\n",
        "    ### laplace smoothing\n",
        "    k = X_tr_func[col_name].nunique()\n",
        "    alpha = 0.01\n",
        "    x_pos_cnt = X_tr_func.groupby(col_name)['project_is_approved'].sum()\n",
        "    x_pos_cnt = x_pos_cnt.to_dict()\n",
        "    total_cnt = X_tr_func.groupby(col_name)['project_is_approved'].count()\n",
        "    total_cnt = total_cnt.to_dict()\n",
        "    ### lpalace smoothing for all the variables\n",
        "    for uniq_val in x_pos_cnt.keys():\n",
        "      x = x_pos_cnt.get(uniq_val)\n",
        "      n = total_cnt.get(uniq_val)\n",
        "      x = (x+alpha)/(n+(k*alpha))\n",
        "      x_pos_cnt[uniq_val] = x\n",
        "    ## get train features variables.\n",
        "    pr_df = pd.DataFrame.from_dict(x_pos_cnt,orient ='index')\n",
        "    pr_df.reset_index(inplace=True,drop=False)\n",
        "    pr_df['project_not_approved'] = 1 - pr_df[0]\n",
        "    pos_col = new_col + '_pos'\n",
        "    neg_col = new_col + '_neg'\n",
        "    pr_df = pr_df.rename(columns = {'index' : col_name,\n",
        "                                     0:pos_col,\n",
        "                                    'project_not_approved':neg_col})\n",
        "    X_tr_func = X_tr_func.merge(pr_df,left_on=col_name,right_on=col_name,how='inner')\n",
        "    X_test_func = X_test_func.merge(pr_df,left_on=col_name,right_on=col_name,how='inner')\n",
        "    ### fill not found state with 0.5 as the inner join will return NAN value\n",
        "    X_test_func[[pos_col, neg_col]].fillna(value=0.5,inplace=True)\n",
        "    return X_tr_func, X_test_func"
      ],
      "execution_count": 18,
      "outputs": []
    },
    {
      "cell_type": "code",
      "metadata": {
        "id": "urPqFkAU5I1Y",
        "outputId": "5ca36523-d42b-431b-aa39-4fcffe23666b",
        "colab": {
          "base_uri": "https://localhost:8080/"
        }
      },
      "source": [
        "X_tr,X_test = response_coding_for_feature(X_tr,X_test,col_name='school_state',new_col='Res_Code_State')"
      ],
      "execution_count": 19,
      "outputs": [
        {
          "output_type": "stream",
          "text": [
            "/usr/local/lib/python3.6/dist-packages/pandas/core/frame.py:4323: SettingWithCopyWarning: \n",
            "A value is trying to be set on a copy of a slice from a DataFrame\n",
            "\n",
            "See the caveats in the documentation: https://pandas.pydata.org/pandas-docs/stable/user_guide/indexing.html#returning-a-view-versus-a-copy\n",
            "  downcast=downcast,\n"
          ],
          "name": "stderr"
        }
      ]
    },
    {
      "cell_type": "code",
      "metadata": {
        "id": "CyMqZaIf5I1c",
        "outputId": "4c0fcc8c-5298-46bc-e9e4-355165fba733",
        "colab": {
          "base_uri": "https://localhost:8080/"
        }
      },
      "source": [
        "X_tr,X_test = response_coding_for_feature(X_tr,X_test,col_name='teacher_prefix',new_col='Res_Code_tpr')"
      ],
      "execution_count": 20,
      "outputs": [
        {
          "output_type": "stream",
          "text": [
            "/usr/local/lib/python3.6/dist-packages/pandas/core/frame.py:4323: SettingWithCopyWarning: \n",
            "A value is trying to be set on a copy of a slice from a DataFrame\n",
            "\n",
            "See the caveats in the documentation: https://pandas.pydata.org/pandas-docs/stable/user_guide/indexing.html#returning-a-view-versus-a-copy\n",
            "  downcast=downcast,\n"
          ],
          "name": "stderr"
        }
      ]
    },
    {
      "cell_type": "code",
      "metadata": {
        "id": "6JJF1ACj5I1h",
        "outputId": "f4aa2067-0be4-4365-d19f-d369c6b864ab",
        "colab": {
          "base_uri": "https://localhost:8080/"
        }
      },
      "source": [
        "X_tr,X_test = response_coding_for_feature(X_tr,X_test,col_name='project_grade_category',new_col='Res_Code_pgc')"
      ],
      "execution_count": 21,
      "outputs": [
        {
          "output_type": "stream",
          "text": [
            "/usr/local/lib/python3.6/dist-packages/pandas/core/frame.py:4323: SettingWithCopyWarning: \n",
            "A value is trying to be set on a copy of a slice from a DataFrame\n",
            "\n",
            "See the caveats in the documentation: https://pandas.pydata.org/pandas-docs/stable/user_guide/indexing.html#returning-a-view-versus-a-copy\n",
            "  downcast=downcast,\n"
          ],
          "name": "stderr"
        }
      ]
    },
    {
      "cell_type": "code",
      "metadata": {
        "id": "5CvUn0FX5I1k",
        "outputId": "158a8675-0ce0-4fc6-f992-74ec9b467230",
        "colab": {
          "base_uri": "https://localhost:8080/"
        }
      },
      "source": [
        "X_tr,X_test = response_coding_for_feature(X_tr,X_test,col_name='clean_categories',new_col='Res_Code_cc')"
      ],
      "execution_count": 22,
      "outputs": [
        {
          "output_type": "stream",
          "text": [
            "/usr/local/lib/python3.6/dist-packages/pandas/core/frame.py:4323: SettingWithCopyWarning: \n",
            "A value is trying to be set on a copy of a slice from a DataFrame\n",
            "\n",
            "See the caveats in the documentation: https://pandas.pydata.org/pandas-docs/stable/user_guide/indexing.html#returning-a-view-versus-a-copy\n",
            "  downcast=downcast,\n"
          ],
          "name": "stderr"
        }
      ]
    },
    {
      "cell_type": "code",
      "metadata": {
        "id": "GBNRRl8K5I12",
        "outputId": "2aab4d58-dd82-4e6a-b06a-f0d43e92a301",
        "colab": {
          "base_uri": "https://localhost:8080/"
        }
      },
      "source": [
        "X_tr,X_test = response_coding_for_feature(X_tr,X_test,col_name='clean_subcategories',new_col='Res_Code_csc')"
      ],
      "execution_count": 23,
      "outputs": [
        {
          "output_type": "stream",
          "text": [
            "/usr/local/lib/python3.6/dist-packages/pandas/core/frame.py:4323: SettingWithCopyWarning: \n",
            "A value is trying to be set on a copy of a slice from a DataFrame\n",
            "\n",
            "See the caveats in the documentation: https://pandas.pydata.org/pandas-docs/stable/user_guide/indexing.html#returning-a-view-versus-a-copy\n",
            "  downcast=downcast,\n"
          ],
          "name": "stderr"
        }
      ]
    },
    {
      "cell_type": "code",
      "metadata": {
        "id": "k7YekbU55I16",
        "outputId": "c66523bc-e854-4b3b-807c-2c48723e68f8",
        "colab": {
          "base_uri": "https://localhost:8080/",
          "height": 669
        }
      },
      "source": [
        "X_tr.head()"
      ],
      "execution_count": 24,
      "outputs": [
        {
          "output_type": "execute_result",
          "data": {
            "text/html": [
              "<div>\n",
              "<style scoped>\n",
              "    .dataframe tbody tr th:only-of-type {\n",
              "        vertical-align: middle;\n",
              "    }\n",
              "\n",
              "    .dataframe tbody tr th {\n",
              "        vertical-align: top;\n",
              "    }\n",
              "\n",
              "    .dataframe thead th {\n",
              "        text-align: right;\n",
              "    }\n",
              "</style>\n",
              "<table border=\"1\" class=\"dataframe\">\n",
              "  <thead>\n",
              "    <tr style=\"text-align: right;\">\n",
              "      <th></th>\n",
              "      <th>school_state</th>\n",
              "      <th>teacher_prefix</th>\n",
              "      <th>project_grade_category</th>\n",
              "      <th>teacher_number_of_previously_posted_projects</th>\n",
              "      <th>project_is_approved</th>\n",
              "      <th>clean_categories</th>\n",
              "      <th>clean_subcategories</th>\n",
              "      <th>essay</th>\n",
              "      <th>price</th>\n",
              "      <th>essay_neg</th>\n",
              "      <th>essay_neu</th>\n",
              "      <th>essay_pos</th>\n",
              "      <th>essay_compound</th>\n",
              "      <th>Res_Code_State_pos</th>\n",
              "      <th>Res_Code_State_neg</th>\n",
              "      <th>Res_Code_tpr_pos</th>\n",
              "      <th>Res_Code_tpr_neg</th>\n",
              "      <th>Res_Code_pgc_pos</th>\n",
              "      <th>Res_Code_pgc_neg</th>\n",
              "      <th>Res_Code_cc_pos</th>\n",
              "      <th>Res_Code_cc_neg</th>\n",
              "      <th>Res_Code_csc_pos</th>\n",
              "      <th>Res_Code_csc_neg</th>\n",
              "    </tr>\n",
              "  </thead>\n",
              "  <tbody>\n",
              "    <tr>\n",
              "      <th>0</th>\n",
              "      <td>ok</td>\n",
              "      <td>mr</td>\n",
              "      <td>grades_6_8</td>\n",
              "      <td>0</td>\n",
              "      <td>1</td>\n",
              "      <td>appliedlearning</td>\n",
              "      <td>charactereducation</td>\n",
              "      <td>my wonderful middle students active extremely ...</td>\n",
              "      <td>314.56</td>\n",
              "      <td>0.011</td>\n",
              "      <td>0.612</td>\n",
              "      <td>0.377</td>\n",
              "      <td>0.9915</td>\n",
              "      <td>0.825293</td>\n",
              "      <td>0.174707</td>\n",
              "      <td>0.844457</td>\n",
              "      <td>0.155543</td>\n",
              "      <td>0.842803</td>\n",
              "      <td>0.157197</td>\n",
              "      <td>0.819761</td>\n",
              "      <td>0.180239</td>\n",
              "      <td>0.796057</td>\n",
              "      <td>0.203943</td>\n",
              "    </tr>\n",
              "    <tr>\n",
              "      <th>1</th>\n",
              "      <td>tx</td>\n",
              "      <td>mr</td>\n",
              "      <td>grades_6_8</td>\n",
              "      <td>1</td>\n",
              "      <td>1</td>\n",
              "      <td>appliedlearning</td>\n",
              "      <td>charactereducation</td>\n",
              "      <td>real myers fc work english language learners r...</td>\n",
              "      <td>563.96</td>\n",
              "      <td>0.019</td>\n",
              "      <td>0.784</td>\n",
              "      <td>0.197</td>\n",
              "      <td>0.9803</td>\n",
              "      <td>0.814124</td>\n",
              "      <td>0.185876</td>\n",
              "      <td>0.844457</td>\n",
              "      <td>0.155543</td>\n",
              "      <td>0.842803</td>\n",
              "      <td>0.157197</td>\n",
              "      <td>0.819761</td>\n",
              "      <td>0.180239</td>\n",
              "      <td>0.796057</td>\n",
              "      <td>0.203943</td>\n",
              "    </tr>\n",
              "    <tr>\n",
              "      <th>2</th>\n",
              "      <td>or</td>\n",
              "      <td>mr</td>\n",
              "      <td>grades_6_8</td>\n",
              "      <td>0</td>\n",
              "      <td>0</td>\n",
              "      <td>appliedlearning</td>\n",
              "      <td>charactereducation</td>\n",
              "      <td>this strongest class yet 22 years teach their ...</td>\n",
              "      <td>469.88</td>\n",
              "      <td>0.082</td>\n",
              "      <td>0.573</td>\n",
              "      <td>0.344</td>\n",
              "      <td>0.9897</td>\n",
              "      <td>0.841213</td>\n",
              "      <td>0.158787</td>\n",
              "      <td>0.844457</td>\n",
              "      <td>0.155543</td>\n",
              "      <td>0.842803</td>\n",
              "      <td>0.157197</td>\n",
              "      <td>0.819761</td>\n",
              "      <td>0.180239</td>\n",
              "      <td>0.796057</td>\n",
              "      <td>0.203943</td>\n",
              "    </tr>\n",
              "    <tr>\n",
              "      <th>3</th>\n",
              "      <td>md</td>\n",
              "      <td>mrs</td>\n",
              "      <td>grades_6_8</td>\n",
              "      <td>0</td>\n",
              "      <td>1</td>\n",
              "      <td>appliedlearning</td>\n",
              "      <td>charactereducation</td>\n",
              "      <td>imagine grow little money think family your pa...</td>\n",
              "      <td>101.83</td>\n",
              "      <td>0.188</td>\n",
              "      <td>0.531</td>\n",
              "      <td>0.281</td>\n",
              "      <td>0.9777</td>\n",
              "      <td>0.833704</td>\n",
              "      <td>0.166296</td>\n",
              "      <td>0.854679</td>\n",
              "      <td>0.145321</td>\n",
              "      <td>0.842803</td>\n",
              "      <td>0.157197</td>\n",
              "      <td>0.819761</td>\n",
              "      <td>0.180239</td>\n",
              "      <td>0.796057</td>\n",
              "      <td>0.203943</td>\n",
              "    </tr>\n",
              "    <tr>\n",
              "      <th>4</th>\n",
              "      <td>nh</td>\n",
              "      <td>mrs</td>\n",
              "      <td>grades_6_8</td>\n",
              "      <td>4</td>\n",
              "      <td>1</td>\n",
              "      <td>appliedlearning</td>\n",
              "      <td>charactereducation</td>\n",
              "      <td>i teach language arts sixth grade students inc...</td>\n",
              "      <td>175.59</td>\n",
              "      <td>0.062</td>\n",
              "      <td>0.765</td>\n",
              "      <td>0.173</td>\n",
              "      <td>0.9719</td>\n",
              "      <td>0.876233</td>\n",
              "      <td>0.123767</td>\n",
              "      <td>0.854679</td>\n",
              "      <td>0.145321</td>\n",
              "      <td>0.842803</td>\n",
              "      <td>0.157197</td>\n",
              "      <td>0.819761</td>\n",
              "      <td>0.180239</td>\n",
              "      <td>0.796057</td>\n",
              "      <td>0.203943</td>\n",
              "    </tr>\n",
              "  </tbody>\n",
              "</table>\n",
              "</div>"
            ],
            "text/plain": [
              "  school_state teacher_prefix  ... Res_Code_csc_pos  Res_Code_csc_neg\n",
              "0           ok             mr  ...         0.796057          0.203943\n",
              "1           tx             mr  ...         0.796057          0.203943\n",
              "2           or             mr  ...         0.796057          0.203943\n",
              "3           md            mrs  ...         0.796057          0.203943\n",
              "4           nh            mrs  ...         0.796057          0.203943\n",
              "\n",
              "[5 rows x 23 columns]"
            ]
          },
          "metadata": {
            "tags": []
          },
          "execution_count": 24
        }
      ]
    },
    {
      "cell_type": "code",
      "metadata": {
        "id": "oVwrTvY05I19"
      },
      "source": [
        "y_tr = X_tr['project_is_approved']\n",
        "X_tr = X_tr.drop('project_is_approved',axis=1)\n",
        "y_test = X_test['project_is_approved']\n",
        "X_test = X_test.drop('project_is_approved',axis=1)"
      ],
      "execution_count": 25,
      "outputs": []
    },
    {
      "cell_type": "markdown",
      "metadata": {
        "id": "S3Vxxv2Hsc31"
      },
      "source": [
        "<h2>1.4 Make Data Model Ready: encoding numerical, categorical features</h2>"
      ]
    },
    {
      "cell_type": "code",
      "metadata": {
        "id": "RAtihVPqsc33"
      },
      "source": [
        "# please write all the code with proper documentation, and proper titles for each subsection\n",
        "# go through documentations and blogs before you start coding \n",
        "# first figure out what to do, and then think about how to do.\n",
        "# reading and understanding error messages will be very much helpfull in debugging your code\n",
        "# make sure you featurize train and test data separatly\n",
        "\n",
        "# when you plot any graph make sure you use \n",
        "    # a. Title, that describes your plot, this will be very helpful to the reader\n",
        "    # b. Legends if needed\n",
        "    # c. X-axis label\n",
        "    # d. Y-axis label"
      ],
      "execution_count": 26,
      "outputs": []
    },
    {
      "cell_type": "code",
      "metadata": {
        "id": "Z5QdLR3k5I2F"
      },
      "source": [
        "### Normalize your data \n",
        "def norm_data(X_tr, y_tr, X_test, y_test, col_name = 'price'):\n",
        "    \n",
        "    from sklearn.preprocessing import Normalizer\n",
        "    normalizer = Normalizer()\n",
        "\n",
        "    normalizer.fit(X_tr['price'].values.reshape(1,-1))\n",
        "\n",
        "    X_tr_norm = normalizer.transform(X_tr['price'].values.reshape(-1,1))\n",
        "    X_test_norm = normalizer.transform(X_test['price'].values.reshape(-1,1))\n",
        "\n",
        "\n",
        "    print(\"After vectorizations\")\n",
        "    print(X_tr_norm.shape, y_tr.shape)\n",
        "    print(X_test_norm.shape, y_test.shape)\n",
        "    print(\"=\"*100)\n",
        "    return X_tr_norm,X_test_norm"
      ],
      "execution_count": 27,
      "outputs": []
    },
    {
      "cell_type": "code",
      "metadata": {
        "id": "i88xipg65I2I",
        "outputId": "fa4823b8-ca33-4f10-e53f-8e52ca8ae9ec",
        "colab": {
          "base_uri": "https://localhost:8080/"
        }
      },
      "source": [
        "X_tr_price_norm, X_test_price_norm = norm_data(X_tr, y_tr, X_test, y_test, 'price')"
      ],
      "execution_count": 28,
      "outputs": [
        {
          "output_type": "stream",
          "text": [
            "After vectorizations\n",
            "(81936, 1) (81936,)\n",
            "(27306, 1) (27306,)\n",
            "====================================================================================================\n"
          ],
          "name": "stdout"
        }
      ]
    },
    {
      "cell_type": "code",
      "metadata": {
        "id": "inD1YAjm5I2N",
        "outputId": "72efc0f3-9cfe-47ba-d274-cbc211092e1a",
        "colab": {
          "base_uri": "https://localhost:8080/"
        }
      },
      "source": [
        "X_tr_nopp_norm, X_test_nopp_norm = norm_data(X_tr, y_tr, X_test, y_test, 'teacher_number_of_previously_posted_project')"
      ],
      "execution_count": 29,
      "outputs": [
        {
          "output_type": "stream",
          "text": [
            "After vectorizations\n",
            "(81936, 1) (81936,)\n",
            "(27306, 1) (27306,)\n",
            "====================================================================================================\n"
          ],
          "name": "stdout"
        }
      ]
    },
    {
      "cell_type": "markdown",
      "metadata": {
        "id": "PMQCPhbW5I2R"
      },
      "source": [
        "#### TF-IDF Implementation"
      ]
    },
    {
      "cell_type": "code",
      "metadata": {
        "id": "KVSCJldr5I2Z"
      },
      "source": [
        "from sklearn.feature_extraction.text import TfidfVectorizer\n",
        "from sklearn.metrics import confusion_matrix\n",
        "from sklearn import metrics\n",
        "from sklearn.metrics import roc_curve, auc"
      ],
      "execution_count": 30,
      "outputs": []
    },
    {
      "cell_type": "code",
      "metadata": {
        "id": "G7Uk5gag5I2c"
      },
      "source": [
        "def TFIDF_essays_sub(X_tr, y_tr, X_test, y_test, col_name = 'essay'):\n",
        "    \n",
        "    vectorizer = TfidfVectorizer(min_df=10,ngram_range=(1,2),max_features=5000)\n",
        "    vectorizer.fit(X_tr[col_name].values) # fit has to happen only on train data\n",
        "\n",
        "    # we use the fitted CountVectorizer to convert the text to vector\n",
        "    X_tr_ohe = vectorizer.transform(X_tr[col_name].values)\n",
        "    X_test_ohe = vectorizer.transform(X_test[col_name].values)\n",
        "\n",
        "    print(\"After vectorizations {}\".format(col_name))\n",
        "    print(X_tr_ohe.shape, y_tr.shape)\n",
        "    print(X_test_ohe.shape, y_test.shape)\n",
        "    #print(vectorizer.get_feature_names())\n",
        "    print(\"=\"*100)\n",
        "    \n",
        "    return X_tr_ohe, X_test_ohe, vectorizer.get_feature_names()"
      ],
      "execution_count": 31,
      "outputs": []
    },
    {
      "cell_type": "code",
      "metadata": {
        "id": "iwZ24ITu5I2g",
        "outputId": "4478f23b-c113-418c-c4c3-ff5030dbb686",
        "colab": {
          "base_uri": "https://localhost:8080/"
        }
      },
      "source": [
        "X_tr_essay_tfidf, X_test_essay_tfidf, TFIDF_feature_name = TFIDF_essays_sub(X_tr, y_tr, X_test, y_test, col_name = 'essay')"
      ],
      "execution_count": 32,
      "outputs": [
        {
          "output_type": "stream",
          "text": [
            "After vectorizations essay\n",
            "(81936, 5000) (81936,)\n",
            "(27306, 5000) (27306,)\n",
            "====================================================================================================\n"
          ],
          "name": "stdout"
        }
      ]
    },
    {
      "cell_type": "code",
      "metadata": {
        "id": "3SYLzyrX5I2j",
        "outputId": "f8b0e532-a64a-471a-d7c3-2240c5d18b86",
        "colab": {
          "base_uri": "https://localhost:8080/"
        }
      },
      "source": [
        "## prepare your data set to train your model\n",
        "from scipy.sparse import hstack\n",
        "X_tr_tfidf_csr = hstack((X_tr_essay_tfidf,X_tr_nopp_norm, X_tr_price_norm,X_tr['essay_neg'].values.reshape(-1,1),\n",
        "                        X_tr['essay_neu'].values.reshape(-1,1),X_tr['essay_pos'].values.reshape(-1,1),\n",
        "                        X_tr['essay_compound'].values.reshape(-1,1),X_tr['Res_Code_State_pos'].values.reshape(-1,1),\n",
        "                        X_tr['Res_Code_State_neg'].values.reshape(-1,1),X_tr['Res_Code_tpr_pos'].values.reshape(-1,1),\n",
        "                        X_tr['Res_Code_tpr_neg'].values.reshape(-1,1),X_tr['Res_Code_pgc_pos'].values.reshape(-1,1),\n",
        "                        X_tr['Res_Code_pgc_neg'].values.reshape(-1,1),X_tr['Res_Code_cc_pos'].values.reshape(-1,1),\n",
        "                        X_tr['Res_Code_cc_neg'].values.reshape(-1,1),X_tr['Res_Code_csc_pos'].values.reshape(-1,1),\n",
        "                        X_tr['Res_Code_csc_neg'].values.reshape(-1,1)))\n",
        "##\n",
        "X_test_tfidf_csr = hstack((X_test_essay_tfidf,X_test_nopp_norm, X_test_price_norm,X_test['essay_neg'].values.reshape(-1,1),\n",
        "                        X_test['essay_neu'].values.reshape(-1,1),X_test['essay_pos'].values.reshape(-1,1),\n",
        "                        X_test['essay_compound'].values.reshape(-1,1),X_test['Res_Code_State_pos'].values.reshape(-1,1),\n",
        "                        X_test['Res_Code_State_neg'].values.reshape(-1,1),X_test['Res_Code_tpr_pos'].values.reshape(-1,1),\n",
        "                        X_test['Res_Code_tpr_neg'].values.reshape(-1,1),X_test['Res_Code_pgc_pos'].values.reshape(-1,1),\n",
        "                        X_test['Res_Code_pgc_neg'].values.reshape(-1,1),X_test['Res_Code_cc_pos'].values.reshape(-1,1),\n",
        "                        X_test['Res_Code_cc_neg'].values.reshape(-1,1),X_test['Res_Code_csc_pos'].values.reshape(-1,1),\n",
        "                        X_test['Res_Code_csc_neg'].values.reshape(-1,1)))\n",
        "##\n",
        "print(\"Final Data matrix\")\n",
        "print(X_tr_tfidf_csr.shape, y_tr.shape)\n",
        "print(X_test_tfidf_csr.shape, y_test.shape)\n",
        "print(\"=\"*100)"
      ],
      "execution_count": 33,
      "outputs": [
        {
          "output_type": "stream",
          "text": [
            "Final Data matrix\n",
            "(81936, 5016) (81936,)\n",
            "(27306, 5016) (27306,)\n",
            "====================================================================================================\n"
          ],
          "name": "stdout"
        }
      ]
    },
    {
      "cell_type": "code",
      "metadata": {
        "id": "WATiLv4I5I2n"
      },
      "source": [
        "from sklearn.metrics import roc_auc_score\n",
        "from sklearn.model_selection import RandomizedSearchCV\n",
        "from sklearn.model_selection import GridSearchCV\n",
        "from xgboost import XGBClassifier\n",
        "from scipy.stats import randint"
      ],
      "execution_count": 34,
      "outputs": []
    },
    {
      "cell_type": "code",
      "metadata": {
        "id": "auVfhqz75I2q",
        "outputId": "72604e5f-fd23-422d-86d9-7ddae3326948",
        "colab": {
          "base_uri": "https://localhost:8080/"
        }
      },
      "source": [
        "%%time\n",
        "### Train XGBoost Classifier\n",
        "model_params = {\n",
        "                'n_estimators': [500,750,1000,1250] ,\n",
        "                'max_depth' :  [1, 3, 5, 7 ]\n",
        "               }\n",
        "#\n",
        "xgbdt_clf = XGBClassifier(learning_rate =0.1,\n",
        "                    min_child_weight=1,\n",
        "                    reg_lambda = 1.5,                     \n",
        "                    subsample=0.6,\n",
        "                    colsample_bytree=0.6,\n",
        "                    colsample_bylevel=0.8,\n",
        "                    objective= 'binary:logistic',\n",
        "                    nthread=4\n",
        "                    )\n",
        "#\n",
        "clf = GridSearchCV(xgbdt_clf, model_params, cv=5, scoring='roc_auc', return_train_score=True, n_jobs=-1,\n",
        "                         verbose=40)\n",
        "clf.fit(X_tr_tfidf_csr,y_tr,\n",
        "        verbose=15)"
      ],
      "execution_count": 88,
      "outputs": [
        {
          "output_type": "stream",
          "text": [
            "Fitting 5 folds for each of 16 candidates, totalling 80 fits\n"
          ],
          "name": "stdout"
        },
        {
          "output_type": "stream",
          "text": [
            "[Parallel(n_jobs=-1)]: Using backend LokyBackend with 2 concurrent workers.\n",
            "[Parallel(n_jobs=-1)]: Done   1 tasks      | elapsed:  2.9min\n",
            "[Parallel(n_jobs=-1)]: Done   2 tasks      | elapsed:  2.9min\n",
            "[Parallel(n_jobs=-1)]: Done   3 tasks      | elapsed:  5.7min\n",
            "[Parallel(n_jobs=-1)]: Done   4 tasks      | elapsed:  5.7min\n",
            "[Parallel(n_jobs=-1)]: Done   5 tasks      | elapsed:  8.5min\n",
            "[Parallel(n_jobs=-1)]: Done   6 tasks      | elapsed:  9.6min\n",
            "[Parallel(n_jobs=-1)]: Done   7 tasks      | elapsed: 12.6min\n",
            "[Parallel(n_jobs=-1)]: Done   8 tasks      | elapsed: 13.7min\n",
            "[Parallel(n_jobs=-1)]: Done   9 tasks      | elapsed: 16.6min\n",
            "[Parallel(n_jobs=-1)]: Done  10 tasks      | elapsed: 17.7min\n",
            "[Parallel(n_jobs=-1)]: Done  11 tasks      | elapsed: 21.9min\n",
            "[Parallel(n_jobs=-1)]: Done  12 tasks      | elapsed: 23.1min\n",
            "[Parallel(n_jobs=-1)]: Done  13 tasks      | elapsed: 27.3min\n",
            "[Parallel(n_jobs=-1)]: Done  14 tasks      | elapsed: 28.4min\n",
            "[Parallel(n_jobs=-1)]: Done  15 tasks      | elapsed: 32.7min\n",
            "[Parallel(n_jobs=-1)]: Done  16 tasks      | elapsed: 35.1min\n",
            "[Parallel(n_jobs=-1)]: Done  17 tasks      | elapsed: 39.3min\n",
            "[Parallel(n_jobs=-1)]: Done  18 tasks      | elapsed: 41.7min\n",
            "[Parallel(n_jobs=-1)]: Done  19 tasks      | elapsed: 46.0min\n",
            "[Parallel(n_jobs=-1)]: Done  20 tasks      | elapsed: 48.5min\n",
            "[Parallel(n_jobs=-1)]: Done  21 tasks      | elapsed: 53.1min\n",
            "[Parallel(n_jobs=-1)]: Done  22 tasks      | elapsed: 55.6min\n",
            "[Parallel(n_jobs=-1)]: Done  23 tasks      | elapsed: 60.1min\n",
            "[Parallel(n_jobs=-1)]: Done  24 tasks      | elapsed: 62.5min\n",
            "[Parallel(n_jobs=-1)]: Done  25 tasks      | elapsed: 67.1min\n",
            "[Parallel(n_jobs=-1)]: Done  26 tasks      | elapsed: 72.9min\n",
            "[Parallel(n_jobs=-1)]: Done  27 tasks      | elapsed: 77.4min\n",
            "[Parallel(n_jobs=-1)]: Done  28 tasks      | elapsed: 83.3min\n",
            "[Parallel(n_jobs=-1)]: Done  29 tasks      | elapsed: 87.7min\n",
            "[Parallel(n_jobs=-1)]: Done  30 tasks      | elapsed: 93.8min\n",
            "[Parallel(n_jobs=-1)]: Done  31 tasks      | elapsed: 101.4min\n",
            "[Parallel(n_jobs=-1)]: Done  32 tasks      | elapsed: 107.5min\n",
            "[Parallel(n_jobs=-1)]: Done  33 tasks      | elapsed: 115.3min\n",
            "[Parallel(n_jobs=-1)]: Done  34 tasks      | elapsed: 121.3min\n",
            "[Parallel(n_jobs=-1)]: Done  35 tasks      | elapsed: 128.9min\n",
            "[Parallel(n_jobs=-1)]: Done  36 tasks      | elapsed: 138.6min\n",
            "[Parallel(n_jobs=-1)]: Done  37 tasks      | elapsed: 146.4min\n",
            "[Parallel(n_jobs=-1)]: Done  38 tasks      | elapsed: 156.1min\n",
            "[Parallel(n_jobs=-1)]: Done  39 tasks      | elapsed: 163.4min\n",
            "[Parallel(n_jobs=-1)]: Done  40 tasks      | elapsed: 173.1min\n",
            "[Parallel(n_jobs=-1)]: Done  41 tasks      | elapsed: 174.6min\n",
            "[Parallel(n_jobs=-1)]: Done  42 tasks      | elapsed: 184.3min\n",
            "[Parallel(n_jobs=-1)]: Done  43 tasks      | elapsed: 186.1min\n",
            "[Parallel(n_jobs=-1)]: Done  44 tasks      | elapsed: 195.5min\n",
            "[Parallel(n_jobs=-1)]: Done  45 tasks      | elapsed: 197.2min\n",
            "[Parallel(n_jobs=-1)]: Done  46 tasks      | elapsed: 211.9min\n",
            "[Parallel(n_jobs=-1)]: Done  47 tasks      | elapsed: 213.9min\n",
            "[Parallel(n_jobs=-1)]: Done  48 tasks      | elapsed: 228.7min\n",
            "[Parallel(n_jobs=-1)]: Done  49 tasks      | elapsed: 230.5min\n",
            "[Parallel(n_jobs=-1)]: Done  50 tasks      | elapsed: 245.6min\n",
            "[Parallel(n_jobs=-1)]: Done  51 tasks      | elapsed: 253.3min\n",
            "[Parallel(n_jobs=-1)]: Done  52 tasks      | elapsed: 268.7min\n",
            "[Parallel(n_jobs=-1)]: Done  53 tasks      | elapsed: 276.4min\n",
            "[Parallel(n_jobs=-1)]: Done  54 tasks      | elapsed: 291.3min\n",
            "[Parallel(n_jobs=-1)]: Done  55 tasks      | elapsed: 299.1min\n",
            "[Parallel(n_jobs=-1)]: Done  56 tasks      | elapsed: 319.1min\n",
            "[Parallel(n_jobs=-1)]: Done  57 tasks      | elapsed: 326.9min\n",
            "[Parallel(n_jobs=-1)]: Done  58 tasks      | elapsed: 346.8min\n",
            "[Parallel(n_jobs=-1)]: Done  59 tasks      | elapsed: 354.3min\n",
            "[Parallel(n_jobs=-1)]: Done  60 tasks      | elapsed: 369.9min\n",
            "[Parallel(n_jobs=-1)]: Done  61 tasks      | elapsed: 373.8min\n",
            "[Parallel(n_jobs=-1)]: Done  62 tasks      | elapsed: 385.3min\n",
            "[Parallel(n_jobs=-1)]: Done  63 tasks      | elapsed: 389.2min\n",
            "[Parallel(n_jobs=-1)]: Done  64 tasks      | elapsed: 400.7min\n",
            "[Parallel(n_jobs=-1)]: Done  65 tasks      | elapsed: 404.7min\n",
            "[Parallel(n_jobs=-1)]: Done  66 tasks      | elapsed: 424.1min\n",
            "[Parallel(n_jobs=-1)]: Done  67 tasks      | elapsed: 428.3min\n",
            "[Parallel(n_jobs=-1)]: Done  68 tasks      | elapsed: 447.6min\n",
            "[Parallel(n_jobs=-1)]: Done  69 tasks      | elapsed: 451.3min\n",
            "[Parallel(n_jobs=-1)]: Done  70 tasks      | elapsed: 471.0min\n",
            "[Parallel(n_jobs=-1)]: Done  71 tasks      | elapsed: 482.2min\n",
            "[Parallel(n_jobs=-1)]: Done  72 tasks      | elapsed: 501.8min\n",
            "[Parallel(n_jobs=-1)]: Done  73 tasks      | elapsed: 512.5min\n",
            "[Parallel(n_jobs=-1)]: Done  74 tasks      | elapsed: 531.7min\n",
            "[Parallel(n_jobs=-1)]: Done  75 tasks      | elapsed: 542.5min\n",
            "[Parallel(n_jobs=-1)]: Done  76 tasks      | elapsed: 568.9min\n",
            "[Parallel(n_jobs=-1)]: Done  77 tasks      | elapsed: 579.9min\n",
            "[Parallel(n_jobs=-1)]: Done  80 out of  80 | elapsed: 629.9min remaining:    0.0s\n",
            "[Parallel(n_jobs=-1)]: Done  80 out of  80 | elapsed: 629.9min finished\n"
          ],
          "name": "stderr"
        },
        {
          "output_type": "stream",
          "text": [
            "CPU times: user 7min 49s, sys: 1.31 s, total: 7min 50s\n",
            "Wall time: 10h 33min 59s\n"
          ],
          "name": "stdout"
        }
      ]
    },
    {
      "cell_type": "code",
      "metadata": {
        "id": "P8vHqzZf5I2u",
        "outputId": "4d928c98-115c-4904-806e-d5a10e1be570",
        "colab": {
          "base_uri": "https://localhost:8080/"
        }
      },
      "source": [
        "train_auc= clf.cv_results_['mean_train_score']\n",
        "train_auc_std = clf.cv_results_['std_train_score']\n",
        "test_auc = clf.cv_results_['mean_test_score'] \n",
        "test_auc_std = clf.cv_results_['std_test_score']\n",
        "\n",
        "#Output of GridSearchCV\n",
        "print('Best score: ',clf.best_score_)\n",
        "print('Best Hyper parameters: ',clf.best_params_)\n",
        "print('='*75)\n",
        "print('Train AUC scores')\n",
        "print(clf.cv_results_['mean_train_score'])\n",
        "print('CV AUC scores')\n",
        "print(clf.cv_results_['mean_test_score'])"
      ],
      "execution_count": 89,
      "outputs": [
        {
          "output_type": "stream",
          "text": [
            "Best score:  0.6526207037918785\n",
            "Best Hyper parameters:  {'max_depth': 1, 'n_estimators': 1250}\n",
            "===========================================================================\n",
            "Train AUC scores\n",
            "[0.73332033 0.75181519 0.76605276 0.77789603 0.8517532  0.88655417\n",
            " 0.9119096  0.93048882 0.94613544 0.9730147  0.98663968 0.99326684\n",
            " 0.98826787 0.99705505 0.99927462 0.99979901]\n",
            "CV AUC scores\n",
            "[0.64503882 0.6488506  0.65143128 0.6526207  0.62822379 0.63091631\n",
            " 0.62950553 0.62896355 0.61965915 0.62115954 0.62102054 0.61964313\n",
            " 0.61546911 0.61619335 0.61483068 0.61394219]\n"
          ],
          "name": "stdout"
        }
      ]
    },
    {
      "cell_type": "code",
      "metadata": {
        "id": "DWdButWq8DAr",
        "outputId": "991ddf9d-9c25-408d-8497-9e13e408a063",
        "colab": {
          "base_uri": "https://localhost:8080/",
          "height": 119
        }
      },
      "source": [
        "'''%%time\n",
        "### Train XGBoost Classifier\n",
        "model_params = {\n",
        "                'n_estimators': randint(50,1050),\n",
        "                'max_depth' :  randint(1,12)\n",
        "               }\n",
        "#\n",
        "eval_set = [(X_test_tfidf_csr, y_test)]\n",
        "xgbdt_clf = XGBClassifier(learning_rate =0.1,\n",
        "                    min_child_weight=1,\n",
        "                    n_estimators = 10000,\n",
        "                    reg_lambda = 0.2,                     \n",
        "                    subsample=0.6,\n",
        "                    colsample_bytree=0.6,\n",
        "                    colsample_bylevel=0.8,\n",
        "                    objective= 'binary:logistic',\n",
        "                    nthread=4\n",
        "                    )\n",
        "#\n",
        "clf = RandomizedSearchCV(xgbdt_clf, model_params, cv=5, scoring='roc_auc', return_train_score=True, n_jobs=-1,\n",
        "                         n_iter = 10, verbose=1, random_state = 42)\n",
        "xgbdt_clf.fit(X_tr_tfidf_csr,y_tr,\n",
        "        verbose=True,eval_metric=\"auc\", eval_set=eval_set,early_stopping_rounds=100)'''"
      ],
      "execution_count": 90,
      "outputs": [
        {
          "output_type": "execute_result",
          "data": {
            "application/vnd.google.colaboratory.intrinsic+json": {
              "type": "string"
            },
            "text/plain": [
              "'%%time\\n### Train XGBoost Classifier\\nmodel_params = {\\n                \\'n_estimators\\': randint(50,1050),\\n                \\'max_depth\\' :  randint(1,12)\\n               }\\n#\\neval_set = [(X_test_tfidf_csr, y_test)]\\nxgbdt_clf = XGBClassifier(learning_rate =0.1,\\n                    min_child_weight=1,\\n                    n_estimators = 10000,\\n                    reg_lambda = 0.2,                     \\n                    subsample=0.6,\\n                    colsample_bytree=0.6,\\n                    colsample_bylevel=0.8,\\n                    objective= \\'binary:logistic\\',\\n                    nthread=4\\n                    )\\n#\\nclf = RandomizedSearchCV(xgbdt_clf, model_params, cv=5, scoring=\\'roc_auc\\', return_train_score=True, n_jobs=-1,\\n                         n_iter = 10, verbose=1, random_state = 42)\\nxgbdt_clf.fit(X_tr_tfidf_csr,y_tr,\\n        verbose=True,eval_metric=\"auc\", eval_set=eval_set,early_stopping_rounds=100)'"
            ]
          },
          "metadata": {
            "tags": []
          },
          "execution_count": 90
        }
      ]
    },
    {
      "cell_type": "code",
      "metadata": {
        "id": "yY6usPpg5I2x"
      },
      "source": [
        "from itertools import repeat\n",
        "x1 = []\n",
        "y1 = []\n",
        "max_depth = [1, 3, 5, 7 ]\n",
        "n_estimators =  [500,750,1000,1250]\n",
        "train_auc_scores = clf.cv_results_['mean_train_score']\n",
        "cv_auc_scores = clf.cv_results_['mean_test_score']\n",
        "\n",
        "x1 = [x for item in max_depth for x in repeat(item, 4)]\n",
        "for _ in max_depth:\n",
        "    for item in n_estimators:\n",
        "        y1.append(item)"
      ],
      "execution_count": 91,
      "outputs": []
    },
    {
      "cell_type": "code",
      "metadata": {
        "id": "9TBwPXnK5I20",
        "outputId": "809c3704-fb57-443e-b30b-63aa7c2e0ff5",
        "colab": {
          "base_uri": "https://localhost:8080/",
          "height": 369
        }
      },
      "source": [
        "import seaborn as sns\n",
        "df1 = pd.DataFrame(list(zip(x1,y1,train_auc))).rename(columns = {0 : 'max_depth', 1: 'n_estimators', 2: 'mean_train_score'}).pivot('max_depth','n_estimators','mean_train_score')\n",
        "df2 = pd.DataFrame(list(zip(x1,y1,test_auc))).rename(columns = {0 : 'max_depth', 1: 'n_estimators', 2: 'mean_CV_score'}).pivot('max_depth','n_estimators','mean_CV_score')\n",
        "plt.figure(figsize=(50,20))\n",
        "f, axes = plt.subplots(1, 2,figsize=(15,5))\n",
        "sns.heatmap(df1,annot=True,ax=axes[0],cbar = True ,cmap= \"YlGnBu\")\n",
        "sns.heatmap(df2,annot=True,ax=axes[1],cbar = True ,cmap= \"YlGnBu\")"
      ],
      "execution_count": 92,
      "outputs": [
        {
          "output_type": "execute_result",
          "data": {
            "text/plain": [
              "<matplotlib.axes._subplots.AxesSubplot at 0x7f2e0f129588>"
            ]
          },
          "metadata": {
            "tags": []
          },
          "execution_count": 92
        },
        {
          "output_type": "display_data",
          "data": {
            "text/plain": [
              "<Figure size 3600x1440 with 0 Axes>"
            ]
          },
          "metadata": {
            "tags": []
          }
        },
        {
          "output_type": "display_data",
          "data": {
            "image/png": "[encoded data removed]",
            "text/plain": [
              "<Figure size 1080x360 with 4 Axes>"
            ]
          },
          "metadata": {
            "tags": [],
            "needs_background": "light"
          }
        }
      ]
    },
    {
      "cell_type": "code",
      "metadata": {
        "id": "u36GYGol_7ly",
        "outputId": "16f96b0e-930c-4fe1-c2f6-dff099f26f7f",
        "colab": {
          "base_uri": "https://localhost:8080/"
        }
      },
      "source": [
        "%%time\n",
        "### Train XGBoost Classifier\n",
        "#\n",
        "xgbdt_clf = XGBClassifier(learning_rate =0.1,\n",
        "                    min_child_weight=1,\n",
        "                    n_estimators = 1250,\n",
        "                    max_depth = 1,\n",
        "                    reg_lambda = 1.5,                     \n",
        "                    subsample=0.6,\n",
        "                    colsample_bytree=0.6,\n",
        "                    colsample_bylevel=0.8,\n",
        "                    objective= 'binary:logistic',\n",
        "                    verbose = 4,\n",
        "                    nthread=4\n",
        "                    )\n",
        "xgbdt_clf.fit(X_tr_tfidf_csr,y_tr,\n",
        "        verbose=True)"
      ],
      "execution_count": 35,
      "outputs": [
        {
          "output_type": "stream",
          "text": [
            "CPU times: user 7min 53s, sys: 1.01 s, total: 7min 54s\n",
            "Wall time: 4min 11s\n"
          ],
          "name": "stdout"
        }
      ]
    },
    {
      "cell_type": "code",
      "metadata": {
        "id": "bNr78JSPClVh",
        "outputId": "6e40ed85-4b0e-4618-eb71-1212abbe0be9",
        "colab": {
          "base_uri": "https://localhost:8080/",
          "height": 295
        }
      },
      "source": [
        "from sklearn.metrics import roc_curve, auc\n",
        "y_train_pred = xgbdt_clf.predict_proba(X_tr_tfidf_csr)[::,1]    \n",
        "y_test_pred =  xgbdt_clf.predict_proba(X_test_tfidf_csr)[::,1]\n",
        "\n",
        "train_fpr, train_tpr, tr_thresholds = roc_curve(y_tr, y_train_pred)\n",
        "test_fpr, test_tpr, te_thresholds = roc_curve(y_test, y_test_pred)\n",
        "auc_tfidf_train = auc(train_fpr, train_tpr)\n",
        "auc_tfidf_test = auc(test_fpr, test_tpr)\n",
        "### feature importance\n",
        "\n",
        "\n",
        "plt.plot(train_fpr, train_tpr, label=\"train AUC =\"+str(auc_tfidf_train))\n",
        "plt.plot(test_fpr, test_tpr, label=\"test AUC =\"+str(auc_tfidf_test))\n",
        "plt.legend()\n",
        "plt.xlabel(\"FalsePositiveRate\")\n",
        "plt.ylabel(\"TruePositiveRate\")\n",
        "plt.title(\"ROC-AUC Curve\")\n",
        "plt.grid()\n",
        "plt.show()"
      ],
      "execution_count": 36,
      "outputs": [
        {
          "output_type": "display_data",
          "data": {
            "image/png": "[encoded data removed]",
            "text/plain": [
              "<Figure size 432x288 with 1 Axes>"
            ]
          },
          "metadata": {
            "tags": [],
            "needs_background": "light"
          }
        }
      ]
    },
    {
      "cell_type": "code",
      "metadata": {
        "id": "3ztdhslIIQEu"
      },
      "source": [
        "### find best threshold\n",
        "def find_best_threshold(threshold, fpr, tpr):\n",
        "    t = threshold[np.argmax(tpr*(1-fpr))]\n",
        "    # (tpr*(1-fpr)) will be maximum if your fpr is very low and tpr is very high\n",
        "    print(\"the maximum value of tpr*(1-fpr)\", max(tpr*(1-fpr)), \"for threshold\", np.round(t,3))\n",
        "    return t\n",
        "\n",
        "def predict_with_best_t(proba, threshold):\n",
        "    predictions = []\n",
        "    for i in proba:\n",
        "        if i>=threshold:\n",
        "            predictions.append(1)\n",
        "        else:\n",
        "            predictions.append(0)\n",
        "    return predictions"
      ],
      "execution_count": 37,
      "outputs": []
    },
    {
      "cell_type": "code",
      "metadata": {
        "id": "K6Fjd9k8IGu1",
        "outputId": "c67df471-7568-43dd-dade-86808a84d630",
        "colab": {
          "base_uri": "https://localhost:8080/",
          "height": 310
        }
      },
      "source": [
        "from sklearn.metrics import confusion_matrix\n",
        "import seaborn as sns\n",
        "best_t = find_best_threshold(tr_thresholds, train_fpr, train_tpr)\n",
        "y_train_pred_class = predict_with_best_t(y_train_pred, best_t)\n",
        "y_test_pred_class = predict_with_best_t(y_test_pred, best_t)\n",
        "train_conf_mat = pd.DataFrame(confusion_matrix(y_tr, y_train_pred_class))\n",
        "test_conf_mat = pd.DataFrame(confusion_matrix(y_test, y_test_pred_class))\n",
        "\n",
        "fig, axs = plt.subplots(1,2,figsize=(16, 4),sharey=True)\n",
        "sns.set(font_scale=1)\n",
        "f1 = sns.heatmap(train_conf_mat, annot=True,fmt=\"d\", ax=axs[0], cbar = False ,cmap= \"YlGnBu\") \n",
        "\n",
        "f1.set_title('Decision Tree Train Confusion Matrix With TFIDF')\n",
        "f1.set_ylabel('True label')\n",
        "f1.set_xlabel('Predicted label')\n",
        "f1.xaxis.set_ticks_position('top')\n",
        "f1.xaxis.set_label_position('top')\n",
        "\n",
        "f2 = sns.heatmap(test_conf_mat, annot=True, fmt = 'd', ax=axs[1] , cmap = \"YlGnBu\") \n",
        "f2.set_title('Decision Tree Test Confusion Matrix With TFIDF')\n",
        "f2.set_ylabel('True label')\n",
        "f2.set_xlabel('Predicted label')\n",
        "f2.xaxis.set_ticks_position('top')\n",
        "f2.xaxis.set_label_position('top')"
      ],
      "execution_count": 39,
      "outputs": [
        {
          "output_type": "stream",
          "text": [
            "the maximum value of tpr*(1-fpr) 0.4857056414734996 for threshold 0.834\n"
          ],
          "name": "stdout"
        },
        {
          "output_type": "display_data",
          "data": {
            "image/png": "[encoded data removed]",
            "text/plain": [
              "<Figure size 1152x288 with 3 Axes>"
            ]
          },
          "metadata": {
            "tags": [],
            "needs_background": "light"
          }
        }
      ]
    },
    {
      "cell_type": "markdown",
      "metadata": {
        "id": "8HIFPLScI29i"
      },
      "source": [
        "#### TFIDF Word2Vec Implementation\n",
        "### Weighted TFIDF Word2Vec Implementation"
      ]
    },
    {
      "cell_type": "code",
      "metadata": {
        "id": "Ria9iz6pDO71"
      },
      "source": [
        "tfidf_model = TfidfVectorizer()\n",
        "tfidf_model.fit(X_tr['essay'])\n",
        "# we are converting a dictionary with word as a key, and the idf as a value\n",
        "dictionary = dict(zip(tfidf_model.get_feature_names(), list(tfidf_model.idf_)))\n",
        "tfidf_words = set(tfidf_model.get_feature_names())"
      ],
      "execution_count": 40,
      "outputs": []
    },
    {
      "cell_type": "code",
      "metadata": {
        "id": "BrYKd4mwKVBr"
      },
      "source": [
        "import pickle\n",
        "with open('glove_vectors', 'rb') as f:\n",
        "    model = pickle.load(f)\n",
        "    glove_words =  set(model.keys())"
      ],
      "execution_count": 41,
      "outputs": []
    },
    {
      "cell_type": "code",
      "metadata": {
        "id": "aS7u3S0uKwsJ",
        "outputId": "810452e8-5671-4861-d21e-b53c1b4d4856",
        "colab": {
          "base_uri": "https://localhost:8080/",
          "height": 99,
          "referenced_widgets": [
            "4120d9f2b4994a34a3eaea27007308b2",
            "436def76685e4316843257679f803d0e",
            "3e297ff69b704d408251ece0b88f893c",
            "afc8c397b36d4e61923318d32a887cef",
            "7890453ca388431aa03609efa9148d00",
            "80f76431e6f64ed6808bff0aeca072d2",
            "76305b34454b460c8402a3fef93cc417",
            "2b5ec38d4d4f44d69cfe14f64be5c94e"
          ]
        }
      },
      "source": [
        "tfidf_w2v_tr_vector = []; # the avg-w2v for each sentence/review is stored in this list\n",
        "for sentence in tqdm(X_tr['essay']): # for each review/sentence\n",
        "    vector = np.zeros(300) # as word vectors are of zero length\n",
        "    tf_idf_weight =0; # num of words with a valid vector in the sentence/review\n",
        "    for word in sentence.split(): # for each word in a review/sentence\n",
        "        if (word in glove_words) and (word in tfidf_words):\n",
        "            vec = model[word] # getting the vector for each word\n",
        "            # here we are multiplying idf value(dictionary[word]) and the tf value((sentence.count(word)/len(sentence.split())))\n",
        "            tf_idf = dictionary[word]*(sentence.count(word)/len(sentence.split())) # getting the tfidf value for each word\n",
        "            vector += (vec * tf_idf) # calculating tfidf weighted w2v\n",
        "            tf_idf_weight += tf_idf\n",
        "    if tf_idf_weight != 0:\n",
        "        vector /= tf_idf_weight\n",
        "    tfidf_w2v_tr_vector.append(vector)\n",
        "\n",
        "print(len(tfidf_w2v_tr_vector))\n",
        "print(len(tfidf_w2v_tr_vector[0]))"
      ],
      "execution_count": 42,
      "outputs": [
        {
          "output_type": "display_data",
          "data": {
            "application/vnd.jupyter.widget-view+json": {
              "model_id": "4120d9f2b4994a34a3eaea27007308b2",
              "version_minor": 0,
              "version_major": 2
            },
            "text/plain": [
              "HBox(children=(FloatProgress(value=0.0, max=81936.0), HTML(value='')))"
            ]
          },
          "metadata": {
            "tags": []
          }
        },
        {
          "output_type": "stream",
          "text": [
            "\n",
            "81936\n",
            "300\n"
          ],
          "name": "stdout"
        }
      ]
    },
    {
      "cell_type": "code",
      "metadata": {
        "id": "EOQD32eFM1DD",
        "outputId": "12680f8c-3902-41d1-df1e-96d79e212165",
        "colab": {
          "base_uri": "https://localhost:8080/",
          "height": 99,
          "referenced_widgets": [
            "270a15da4cae42949ed6539dd541fda6",
            "66bb6fa2cc924d38b773f4a71101bfe1",
            "2d823024553e49b5b94e4e17ed117cb8",
            "ddd5104d77ef4d1cb65e59db56bb9848",
            "2023584f68ae47fdadac0219fc9b944e",
            "a97ffbce48464ae0b3df08419ca387e8",
            "4a95bd04a3f54077a5474d9cc24f0dc1",
            "b21beeff4a3c4455b80da5b589e47d77"
          ]
        }
      },
      "source": [
        "tfidf_w2v_test_vector = []; # the avg-w2v for each sentence/review is stored in this list\n",
        "for sentence in tqdm(X_test['essay']): # for each review/sentence\n",
        "    vector = np.zeros(300) # as word vectors are of zero length\n",
        "    tf_idf_weight =0; # num of words with a valid vector in the sentence/review\n",
        "    for word in sentence.split(): # for each word in a review/sentence\n",
        "        if (word in glove_words) and (word in tfidf_words):\n",
        "            vec = model[word] # getting the vector for each word\n",
        "            # here we are multiplying idf value(dictionary[word]) and the tf value((sentence.count(word)/len(sentence.split())))\n",
        "            tf_idf = dictionary[word]*(sentence.count(word)/len(sentence.split())) # getting the tfidf value for each word\n",
        "            vector += (vec * tf_idf) # calculating tfidf weighted w2v\n",
        "            tf_idf_weight += tf_idf\n",
        "    if tf_idf_weight != 0:\n",
        "        vector /= tf_idf_weight\n",
        "    tfidf_w2v_test_vector.append(vector)\n",
        "\n",
        "print(len(tfidf_w2v_test_vector))\n",
        "print(len(tfidf_w2v_test_vector[0]))"
      ],
      "execution_count": 43,
      "outputs": [
        {
          "output_type": "display_data",
          "data": {
            "application/vnd.jupyter.widget-view+json": {
              "model_id": "270a15da4cae42949ed6539dd541fda6",
              "version_minor": 0,
              "version_major": 2
            },
            "text/plain": [
              "HBox(children=(FloatProgress(value=0.0, max=27306.0), HTML(value='')))"
            ]
          },
          "metadata": {
            "tags": []
          }
        },
        {
          "output_type": "stream",
          "text": [
            "\n",
            "27306\n",
            "300\n"
          ],
          "name": "stdout"
        }
      ]
    },
    {
      "cell_type": "code",
      "metadata": {
        "id": "2BUDijBqOqIW",
        "outputId": "fe4d1415-370c-42d1-d590-8f2518447000",
        "colab": {
          "base_uri": "https://localhost:8080/"
        }
      },
      "source": [
        "tfidf_w2v_tr_vector = np.array(tfidf_w2v_tr_vector)\n",
        "tfidf_w2v_test_vector = np.array(tfidf_w2v_test_vector)\n",
        "tfidf_w2v_test_vector.shape"
      ],
      "execution_count": 44,
      "outputs": [
        {
          "output_type": "execute_result",
          "data": {
            "text/plain": [
              "(27306, 300)"
            ]
          },
          "metadata": {
            "tags": []
          },
          "execution_count": 44
        }
      ]
    },
    {
      "cell_type": "code",
      "metadata": {
        "id": "TULuWg_RMop-",
        "outputId": "7125f715-de92-437a-93ba-77c5c0253a85",
        "colab": {
          "base_uri": "https://localhost:8080/"
        }
      },
      "source": [
        "## prepare your data set to train your model\n",
        "from scipy.sparse import hstack\n",
        "tfidf_w2v_tr_vector = np.array(tfidf_w2v_tr_vector)\n",
        "tfidf_w2v_test_vector = np.array(tfidf_w2v_test_vector)\n",
        "X_tr_tfidf_csr = np.concatenate((tfidf_w2v_tr_vector,X_tr_nopp_norm, X_tr_price_norm,X_tr['essay_neg'].values.reshape(-1,1),\n",
        "                        X_tr['essay_neu'].values.reshape(-1,1),X_tr['essay_pos'].values.reshape(-1,1),\n",
        "                        X_tr['essay_compound'].values.reshape(-1,1),X_tr['Res_Code_State_pos'].values.reshape(-1,1),\n",
        "                        X_tr['Res_Code_State_neg'].values.reshape(-1,1),X_tr['Res_Code_tpr_pos'].values.reshape(-1,1),\n",
        "                        X_tr['Res_Code_tpr_neg'].values.reshape(-1,1),X_tr['Res_Code_pgc_pos'].values.reshape(-1,1),\n",
        "                        X_tr['Res_Code_pgc_neg'].values.reshape(-1,1),X_tr['Res_Code_cc_pos'].values.reshape(-1,1),\n",
        "                        X_tr['Res_Code_cc_neg'].values.reshape(-1,1),X_tr['Res_Code_csc_pos'].values.reshape(-1,1),\n",
        "                        X_tr['Res_Code_csc_neg'].values.reshape(-1,1)),axis=1)\n",
        "##\n",
        "X_test_tfidf_csr = np.concatenate((tfidf_w2v_test_vector,X_test_nopp_norm, X_test_price_norm,X_test['essay_neg'].values.reshape(-1,1),\n",
        "                        X_test['essay_neu'].values.reshape(-1,1),X_test['essay_pos'].values.reshape(-1,1),\n",
        "                        X_test['essay_compound'].values.reshape(-1,1),X_test['Res_Code_State_pos'].values.reshape(-1,1),\n",
        "                        X_test['Res_Code_State_neg'].values.reshape(-1,1),X_test['Res_Code_tpr_pos'].values.reshape(-1,1),\n",
        "                        X_test['Res_Code_tpr_neg'].values.reshape(-1,1),X_test['Res_Code_pgc_pos'].values.reshape(-1,1),\n",
        "                        X_test['Res_Code_pgc_neg'].values.reshape(-1,1),X_test['Res_Code_cc_pos'].values.reshape(-1,1),\n",
        "                        X_test['Res_Code_cc_neg'].values.reshape(-1,1),X_test['Res_Code_csc_pos'].values.reshape(-1,1),\n",
        "                        X_test['Res_Code_csc_neg'].values.reshape(-1,1)),axis=1)\n",
        "##\n",
        "print(\"Final Data matrix\")\n",
        "print(X_tr_tfidf_csr.shape, y_tr.shape)\n",
        "print(X_test_tfidf_csr.shape, y_test.shape)\n",
        "print(\"=\"*100)"
      ],
      "execution_count": 46,
      "outputs": [
        {
          "output_type": "stream",
          "text": [
            "Final Data matrix\n",
            "(81936, 316) (81936,)\n",
            "(27306, 316) (27306,)\n",
            "====================================================================================================\n"
          ],
          "name": "stdout"
        }
      ]
    },
    {
      "cell_type": "code",
      "metadata": {
        "id": "UfFibT1rUazN"
      },
      "source": [
        "from sklearn.metrics import roc_auc_score\n",
        "from sklearn.model_selection import RandomizedSearchCV\n",
        "from sklearn.model_selection import GridSearchCV\n",
        "from xgboost import XGBClassifier\n",
        "from scipy.stats import randint"
      ],
      "execution_count": 47,
      "outputs": []
    },
    {
      "cell_type": "code",
      "metadata": {
        "id": "9Z1TgupDSE6n",
        "outputId": "05b8a16e-8b01-4875-8e23-70d2ca84f5cd",
        "colab": {
          "base_uri": "https://localhost:8080/"
        }
      },
      "source": [
        "%%time\n",
        "### Train XGBoost Classifier\n",
        "model_params = {\n",
        "                'n_estimators': [500,750,1000,1250] ,\n",
        "                'max_depth' :  [1, 3, 5, 7 ]\n",
        "               }\n",
        "#\n",
        "xgbdt_clf = XGBClassifier(learning_rate =0.1,\n",
        "                    min_child_weight=1,\n",
        "                    reg_lambda = 1.5,                     \n",
        "                    subsample=0.6,\n",
        "                    colsample_bytree=0.6,\n",
        "                    colsample_bylevel=0.8,\n",
        "                    objective= 'binary:logistic',\n",
        "                    nthread=4\n",
        "                    )\n",
        "#\n",
        "clf = GridSearchCV(xgbdt_clf, model_params, cv=4, scoring='roc_auc', return_train_score=True, n_jobs=-1,\n",
        "                         verbose=40)\n",
        "clf.fit(X_tr_tfidf_csr,y_tr,\n",
        "        verbose=15)"
      ],
      "execution_count": 48,
      "outputs": [
        {
          "output_type": "stream",
          "text": [
            "Fitting 4 folds for each of 16 candidates, totalling 64 fits\n"
          ],
          "name": "stdout"
        },
        {
          "output_type": "stream",
          "text": [
            "[Parallel(n_jobs=-1)]: Using backend LokyBackend with 2 concurrent workers.\n",
            "[Parallel(n_jobs=-1)]: Done   1 tasks      | elapsed:  3.2min\n",
            "[Parallel(n_jobs=-1)]: Done   2 tasks      | elapsed:  3.2min\n",
            "[Parallel(n_jobs=-1)]: Done   3 tasks      | elapsed:  6.3min\n",
            "[Parallel(n_jobs=-1)]: Done   4 tasks      | elapsed:  6.3min\n",
            "[Parallel(n_jobs=-1)]: Done   5 tasks      | elapsed: 10.9min\n",
            "[Parallel(n_jobs=-1)]: Done   6 tasks      | elapsed: 11.0min\n",
            "[Parallel(n_jobs=-1)]: Done   7 tasks      | elapsed: 15.6min\n",
            "[Parallel(n_jobs=-1)]: Done   8 tasks      | elapsed: 15.6min\n",
            "[Parallel(n_jobs=-1)]: Done   9 tasks      | elapsed: 21.7min\n",
            "[Parallel(n_jobs=-1)]: Done  10 tasks      | elapsed: 21.7min\n",
            "[Parallel(n_jobs=-1)]: Done  11 tasks      | elapsed: 27.9min\n",
            "[Parallel(n_jobs=-1)]: Done  12 tasks      | elapsed: 27.9min\n",
            "[Parallel(n_jobs=-1)]: Done  13 tasks      | elapsed: 35.6min\n",
            "[Parallel(n_jobs=-1)]: Done  14 tasks      | elapsed: 35.6min\n",
            "[Parallel(n_jobs=-1)]: Done  15 tasks      | elapsed: 43.3min\n",
            "[Parallel(n_jobs=-1)]: Done  16 tasks      | elapsed: 43.3min\n",
            "[Parallel(n_jobs=-1)]: Done  17 tasks      | elapsed: 51.1min\n",
            "[Parallel(n_jobs=-1)]: Done  18 tasks      | elapsed: 51.1min\n",
            "[Parallel(n_jobs=-1)]: Done  19 tasks      | elapsed: 59.0min\n",
            "[Parallel(n_jobs=-1)]: Done  20 tasks      | elapsed: 59.0min\n",
            "[Parallel(n_jobs=-1)]: Done  21 tasks      | elapsed: 70.8min\n",
            "[Parallel(n_jobs=-1)]: Done  22 tasks      | elapsed: 70.8min\n",
            "[Parallel(n_jobs=-1)]: Done  23 tasks      | elapsed: 82.5min\n",
            "[Parallel(n_jobs=-1)]: Done  24 tasks      | elapsed: 82.6min\n",
            "[Parallel(n_jobs=-1)]: Done  25 tasks      | elapsed: 98.2min\n",
            "[Parallel(n_jobs=-1)]: Done  26 tasks      | elapsed: 98.2min\n",
            "[Parallel(n_jobs=-1)]: Done  27 tasks      | elapsed: 113.8min\n",
            "[Parallel(n_jobs=-1)]: Done  28 tasks      | elapsed: 113.9min\n",
            "[Parallel(n_jobs=-1)]: Done  29 tasks      | elapsed: 133.3min\n",
            "[Parallel(n_jobs=-1)]: Done  30 tasks      | elapsed: 133.3min\n",
            "[Parallel(n_jobs=-1)]: Done  31 tasks      | elapsed: 152.9min\n",
            "[Parallel(n_jobs=-1)]: Done  32 tasks      | elapsed: 153.1min\n",
            "[Parallel(n_jobs=-1)]: Done  33 tasks      | elapsed: 166.0min\n",
            "[Parallel(n_jobs=-1)]: Done  34 tasks      | elapsed: 166.1min\n",
            "[Parallel(n_jobs=-1)]: Done  35 tasks      | elapsed: 179.1min\n",
            "[Parallel(n_jobs=-1)]: Done  36 tasks      | elapsed: 179.1min\n",
            "[Parallel(n_jobs=-1)]: Done  37 tasks      | elapsed: 198.5min\n",
            "[Parallel(n_jobs=-1)]: Done  38 tasks      | elapsed: 198.5min\n",
            "[Parallel(n_jobs=-1)]: Done  39 tasks      | elapsed: 218.3min\n",
            "[Parallel(n_jobs=-1)]: Done  40 tasks      | elapsed: 218.3min\n",
            "[Parallel(n_jobs=-1)]: Done  41 tasks      | elapsed: 244.6min\n",
            "[Parallel(n_jobs=-1)]: Done  42 tasks      | elapsed: 244.8min\n",
            "[Parallel(n_jobs=-1)]: Done  43 tasks      | elapsed: 271.0min\n",
            "[Parallel(n_jobs=-1)]: Done  44 tasks      | elapsed: 271.2min\n",
            "[Parallel(n_jobs=-1)]: Done  45 tasks      | elapsed: 303.8min\n",
            "[Parallel(n_jobs=-1)]: Done  46 tasks      | elapsed: 304.0min\n",
            "[Parallel(n_jobs=-1)]: Done  47 tasks      | elapsed: 337.1min\n",
            "[Parallel(n_jobs=-1)]: Done  48 tasks      | elapsed: 337.3min\n",
            "[Parallel(n_jobs=-1)]: Done  49 tasks      | elapsed: 356.1min\n",
            "[Parallel(n_jobs=-1)]: Done  50 tasks      | elapsed: 356.3min\n",
            "[Parallel(n_jobs=-1)]: Done  51 tasks      | elapsed: 374.7min\n",
            "[Parallel(n_jobs=-1)]: Done  52 tasks      | elapsed: 374.9min\n",
            "[Parallel(n_jobs=-1)]: Done  53 tasks      | elapsed: 402.9min\n",
            "[Parallel(n_jobs=-1)]: Done  54 tasks      | elapsed: 403.1min\n",
            "[Parallel(n_jobs=-1)]: Done  55 tasks      | elapsed: 431.0min\n",
            "[Parallel(n_jobs=-1)]: Done  56 tasks      | elapsed: 431.1min\n",
            "[Parallel(n_jobs=-1)]: Done  57 tasks      | elapsed: 468.7min\n",
            "[Parallel(n_jobs=-1)]: Done  58 tasks      | elapsed: 468.7min\n",
            "[Parallel(n_jobs=-1)]: Done  59 tasks      | elapsed: 506.0min\n",
            "[Parallel(n_jobs=-1)]: Done  60 tasks      | elapsed: 506.0min\n",
            "[Parallel(n_jobs=-1)]: Done  61 tasks      | elapsed: 552.5min\n",
            "[Parallel(n_jobs=-1)]: Done  64 out of  64 | elapsed: 599.0min finished\n"
          ],
          "name": "stderr"
        },
        {
          "output_type": "stream",
          "text": [
            "CPU times: user 4min 12s, sys: 1.64 s, total: 4min 13s\n",
            "Wall time: 10h 1min 11s\n"
          ],
          "name": "stdout"
        }
      ]
    },
    {
      "cell_type": "code",
      "metadata": {
        "id": "a-1jmT8bSTyx",
        "outputId": "19eed28e-1fc3-4adc-885f-97671287b8d0",
        "colab": {
          "base_uri": "https://localhost:8080/"
        }
      },
      "source": [
        "train_auc= clf.cv_results_['mean_train_score']\n",
        "train_auc_std = clf.cv_results_['std_train_score']\n",
        "test_auc = clf.cv_results_['mean_test_score'] \n",
        "test_auc_std = clf.cv_results_['std_test_score']\n",
        "\n",
        "#Output of GridSearchCV\n",
        "print('Best score: ',clf.best_score_)\n",
        "print('Best Hyper parameters: ',clf.best_params_)\n",
        "print('='*75)\n",
        "print('Train AUC scores')\n",
        "print(clf.cv_results_['mean_train_score'])\n",
        "print('CV AUC scores')\n",
        "print(clf.cv_results_['mean_test_score'])"
      ],
      "execution_count": 49,
      "outputs": [
        {
          "output_type": "stream",
          "text": [
            "Best score:  0.6595321051912355\n",
            "Best Hyper parameters:  {'max_depth': 1, 'n_estimators': 500}\n",
            "===========================================================================\n",
            "Train AUC scores\n",
            "[0.71808331 0.72901735 0.73786103 0.74487395 0.83175945 0.86648936\n",
            " 0.8936044  0.9148107  0.97425734 0.99407334 0.9990021  0.99987501\n",
            " 0.99998869 0.9999986  0.99999897 0.99999921]\n",
            "CV AUC scores\n",
            "[0.65953211 0.65787609 0.65742014 0.65611589 0.62980352 0.62508153\n",
            " 0.62360175 0.62074369 0.61552483 0.61274121 0.61208374 0.61204082\n",
            " 0.61513557 0.61513565 0.61655365 0.6167116 ]\n"
          ],
          "name": "stdout"
        }
      ]
    },
    {
      "cell_type": "code",
      "metadata": {
        "id": "KaAQidYLSZHB"
      },
      "source": [
        "from itertools import repeat\n",
        "x1 = []\n",
        "y1 = []\n",
        "max_depth = [1, 3, 5, 7 ]\n",
        "n_estimators =  [500,750,1000,1250]\n",
        "train_auc_scores = clf.cv_results_['mean_train_score']\n",
        "cv_auc_scores = clf.cv_results_['mean_test_score']\n",
        "\n",
        "x1 = [x for item in max_depth for x in repeat(item, 4)]\n",
        "for _ in max_depth:\n",
        "    for item in n_estimators:\n",
        "        y1.append(item)"
      ],
      "execution_count": 50,
      "outputs": []
    },
    {
      "cell_type": "code",
      "metadata": {
        "id": "GxLmqMb0Sd3y",
        "outputId": "25cd2bc3-de45-4cb9-aba3-5bfa6d8f976f",
        "colab": {
          "base_uri": "https://localhost:8080/",
          "height": 373
        }
      },
      "source": [
        "import seaborn as sns\n",
        "df1 = pd.DataFrame(list(zip(x1,y1,train_auc))).rename(columns = {0 : 'max_depth', 1: 'n_estimators', 2: 'mean_train_score'}).pivot('max_depth','n_estimators','mean_train_score')\n",
        "df2 = pd.DataFrame(list(zip(x1,y1,test_auc))).rename(columns = {0 : 'max_depth', 1: 'n_estimators', 2: 'mean_CV_score'}).pivot('max_depth','n_estimators','mean_CV_score')\n",
        "plt.figure(figsize=(50,20))\n",
        "f, axes = plt.subplots(1, 2,figsize=(15,5))\n",
        "sns.heatmap(df1,annot=True,ax=axes[0],cbar = True ,cmap= \"YlGnBu\")\n",
        "sns.heatmap(df2,annot=True,ax=axes[1],cbar = True ,cmap= \"YlGnBu\")"
      ],
      "execution_count": 51,
      "outputs": [
        {
          "output_type": "execute_result",
          "data": {
            "text/plain": [
              "<matplotlib.axes._subplots.AxesSubplot at 0x7f3d6d230c50>"
            ]
          },
          "metadata": {
            "tags": []
          },
          "execution_count": 51
        },
        {
          "output_type": "display_data",
          "data": {
            "text/plain": [
              "<Figure size 3600x1440 with 0 Axes>"
            ]
          },
          "metadata": {
            "tags": []
          }
        },
        {
          "output_type": "display_data",
          "data": {
            "image/png": "[encoded data removed]",
            "text/plain": [
              "<Figure size 1080x360 with 4 Axes>"
            ]
          },
          "metadata": {
            "tags": []
          }
        }
      ]
    },
    {
      "cell_type": "code",
      "metadata": {
        "id": "K03VGPOE1VSS",
        "outputId": "dce220e7-e33e-4057-d029-502c9fa61055",
        "colab": {
          "base_uri": "https://localhost:8080/"
        }
      },
      "source": [
        "%%time\n",
        "### Train XGBoost Classifier\n",
        "#\n",
        "xgbdt_clf = XGBClassifier(learning_rate =0.1,\n",
        "                    min_child_weight=1,\n",
        "                    n_estimators = 500,\n",
        "                    max_depth = 1,\n",
        "                    reg_lambda = 1.5,                     \n",
        "                    subsample=0.6,\n",
        "                    colsample_bytree=0.6,\n",
        "                    colsample_bylevel=0.8,\n",
        "                    objective= 'binary:logistic',\n",
        "                    verbose = 4,\n",
        "                    nthread=4\n",
        "                    )\n",
        "xgbdt_clf.fit(X_tr_tfidf_csr,y_tr,\n",
        "        verbose=True)"
      ],
      "execution_count": 52,
      "outputs": [
        {
          "output_type": "stream",
          "text": [
            "CPU times: user 4min 7s, sys: 921 ms, total: 4min 8s\n",
            "Wall time: 2min 11s\n"
          ],
          "name": "stdout"
        }
      ]
    },
    {
      "cell_type": "code",
      "metadata": {
        "id": "YzUr5NWR5GNz",
        "outputId": "42dbd588-18e2-4ed6-914e-f085410ad24c",
        "colab": {
          "base_uri": "https://localhost:8080/",
          "height": 301
        }
      },
      "source": [
        "from sklearn.metrics import roc_curve, auc\n",
        "y_train_pred = xgbdt_clf.predict_proba(X_tr_tfidf_csr)[::,1]    \n",
        "y_test_pred =  xgbdt_clf.predict_proba(X_test_tfidf_csr)[::,1]\n",
        "\n",
        "train_fpr, train_tpr, tr_thresholds = roc_curve(y_tr, y_train_pred)\n",
        "test_fpr, test_tpr, te_thresholds = roc_curve(y_test, y_test_pred)\n",
        "auc_tfidf_train = auc(train_fpr, train_tpr)\n",
        "auc_tfidf_test = auc(test_fpr, test_tpr)\n",
        "### feature importance\n",
        "\n",
        "\n",
        "plt.plot(train_fpr, train_tpr, label=\"train AUC =\"+str(auc_tfidf_train))\n",
        "plt.plot(test_fpr, test_tpr, label=\"test AUC =\"+str(auc_tfidf_test))\n",
        "plt.legend()\n",
        "plt.xlabel(\"FalsePositiveRate\")\n",
        "plt.ylabel(\"TruePositiveRate\")\n",
        "plt.title(\"ROC-AUC Curve\")\n",
        "plt.grid()\n",
        "plt.show()"
      ],
      "execution_count": 53,
      "outputs": [
        {
          "output_type": "display_data",
          "data": {
            "image/png": "[encoded data removed]",
            "text/plain": [
              "<Figure size 432x288 with 1 Axes>"
            ]
          },
          "metadata": {
            "tags": []
          }
        }
      ]
    },
    {
      "cell_type": "code",
      "metadata": {
        "id": "8CjmUnha5WSA"
      },
      "source": [
        "### find best threshold\n",
        "def find_best_threshold(threshold, fpr, tpr):\n",
        "    t = threshold[np.argmax(tpr*(1-fpr))]\n",
        "    # (tpr*(1-fpr)) will be maximum if your fpr is very low and tpr is very high\n",
        "    print(\"the maximum value of tpr*(1-fpr)\", max(tpr*(1-fpr)), \"for threshold\", np.round(t,3))\n",
        "    return t\n",
        "\n",
        "def predict_with_best_t(proba, threshold):\n",
        "    predictions = []\n",
        "    for i in proba:\n",
        "        if i>=threshold:\n",
        "            predictions.append(1)\n",
        "        else:\n",
        "            predictions.append(0)\n",
        "    return predictions"
      ],
      "execution_count": 54,
      "outputs": []
    },
    {
      "cell_type": "code",
      "metadata": {
        "id": "iu7k5Mmq5WdE",
        "outputId": "1e8714ee-bcba-4621-b93c-875fd29c8bd9",
        "colab": {
          "base_uri": "https://localhost:8080/",
          "height": 315
        }
      },
      "source": [
        "from sklearn.metrics import confusion_matrix\n",
        "best_t = find_best_threshold(tr_thresholds, train_fpr, train_tpr)\n",
        "y_train_pred_class = predict_with_best_t(y_train_pred, best_t)\n",
        "y_test_pred_class = predict_with_best_t(y_test_pred, best_t)\n",
        "train_conf_mat = pd.DataFrame(confusion_matrix(y_tr, y_train_pred_class))\n",
        "test_conf_mat = pd.DataFrame(confusion_matrix(y_test, y_test_pred_class))\n",
        "\n",
        "fig, axs = plt.subplots(1,2,figsize=(16, 4),sharey=True)\n",
        "sns.set(font_scale=1)\n",
        "f1 = sns.heatmap(train_conf_mat, annot=True,fmt=\"d\", ax=axs[0], cbar = False ,cmap= \"YlGnBu\") \n",
        "\n",
        "f1.set_title('Decision Tree Train Confusion Matrix With TFIDF-W2V')\n",
        "f1.set_ylabel('True label')\n",
        "f1.set_xlabel('Predicted label')\n",
        "f1.xaxis.set_ticks_position('top')\n",
        "f1.xaxis.set_label_position('top')\n",
        "\n",
        "f2 = sns.heatmap(test_conf_mat, annot=True, fmt = 'd', ax=axs[1] , cmap = \"YlGnBu\") \n",
        "f2.set_title('Decision Tree Test Confusion Matrix With TFIDF-W2V')\n",
        "f2.set_ylabel('True label')\n",
        "f2.set_xlabel('Predicted label')\n",
        "f2.xaxis.set_ticks_position('top')\n",
        "f2.xaxis.set_label_position('top')"
      ],
      "execution_count": 55,
      "outputs": [
        {
          "output_type": "stream",
          "text": [
            "the maximum value of tpr*(1-fpr) 0.42973514692127257 for threshold 0.841\n"
          ],
          "name": "stdout"
        },
        {
          "output_type": "display_data",
          "data": {
            "image/png": "[encoded data removed]",
            "text/plain": [
              "<Figure size 1152x288 with 3 Axes>"
            ]
          },
          "metadata": {
            "tags": []
          }
        }
      ]
    },
    {
      "cell_type": "markdown",
      "metadata": {
        "id": "YhFN-lDWsc4G"
      },
      "source": [
        "<h1>3. Summary</h1>\n",
        "\n",
        "<br> as mentioned in the step 4 of instructions"
      ]
    },
    {
      "cell_type": "code",
      "metadata": {
        "id": "IXO0RnqwEZ7E",
        "outputId": "b2aa2040-318b-4a89-a89e-824e72b9c9a0",
        "colab": {
          "base_uri": "https://localhost:8080/"
        }
      },
      "source": [
        "from prettytable import PrettyTable\n",
        "model = ['TFIDF','TFIDFWord2Vec']\n",
        "max_depth = [1,1]\n",
        "n_estimators = [1250,500]\n",
        "train_auc = [0.76,0.724]\n",
        "test_auc = [0.71,0.696]\n",
        "x = PrettyTable()\n",
        "x.field_names = ['Model','Max_Depth','n_estimators','Train_AUC',\"Test_AUC\"]\n",
        "for i in range(2):\n",
        "  x.add_row([model[i],max_depth[i],n_estimators[i],train_auc[i],test_auc[i]])\n",
        "print(x)"
      ],
      "execution_count": 57,
      "outputs": [
        {
          "output_type": "stream",
          "text": [
            "+---------------+-----------+--------------+-----------+----------+\n",
            "|     Model     | Max_Depth | n_estimators | Train_AUC | Test_AUC |\n",
            "+---------------+-----------+--------------+-----------+----------+\n",
            "|     TFIDF     |     1     |     1250     |    0.76   |   0.71   |\n",
            "| TFIDFWord2Vec |     1     |     500      |   0.724   |  0.696   |\n",
            "+---------------+-----------+--------------+-----------+----------+\n"
          ],
          "name": "stdout"
        }
      ]
    },
    {
      "cell_type": "code",
      "metadata": {
        "id": "i1W7cH9bgldu"
      },
      "source": [
        ""
      ],
      "execution_count": null,
      "outputs": []
    }
  ]
}